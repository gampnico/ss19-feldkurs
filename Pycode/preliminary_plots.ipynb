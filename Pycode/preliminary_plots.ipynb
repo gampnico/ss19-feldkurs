{
 "cells": [
  {
   "cell_type": "code",
   "execution_count": 1,
   "metadata": {
    "pycharm": {
     "is_executing": false
    }
   },
   "outputs": [
    {
     "data": {
      "text/plain": [
       "'/home/nick/PycharmProjects/bkp/ss19-feldkurs/Pycode'"
      ]
     },
     "execution_count": 1,
     "metadata": {},
     "output_type": "execute_result"
    }
   ],
   "source": [
    "# imports and defaults\n",
    "\n",
    "import importlib\n",
    "import pandas as pd\n",
    "%matplotlib inline\n",
    "import matplotlib.pyplot as plt\n",
    "import matplotlib.dates as dates\n",
    "import prettyplot as pp\n",
    "import cn_derivations as cn\n",
    "import numpy as np\n",
    "import os\n",
    "import data_parser as dp\n",
    "import math\n",
    "import mpmath\n",
    "from timeit import default_timer as timer\n",
    "import r_function_port as rfp\n",
    "from sklearn.linear_model import LinearRegression\n",
    "mpmath.dps = 30\n",
    "mpmath.pretty = True\n",
    "\n",
    "pd.options.display.max_rows = 10\n",
    "import seaborn as sns\n",
    "sns.set_style('ticks')\n",
    "sns.set_context('talk')\n",
    "\n",
    "# Time zone adjustment\n",
    "import matplotlib\n",
    "matplotlib.rcParams['timezone'] = 'CET'\n",
    "os.getcwd()\n"
   ]
  },
  {
   "cell_type": "code",
   "execution_count": 2,
   "metadata": {},
   "outputs": [
    {
     "data": {
      "text/html": [
       "<div>\n",
       "<style scoped>\n",
       "    .dataframe tbody tr th:only-of-type {\n",
       "        vertical-align: middle;\n",
       "    }\n",
       "\n",
       "    .dataframe tbody tr th {\n",
       "        vertical-align: top;\n",
       "    }\n",
       "\n",
       "    .dataframe thead th {\n",
       "        text-align: right;\n",
       "    }\n",
       "</style>\n",
       "<table border=\"1\" class=\"dataframe\">\n",
       "  <thead>\n",
       "    <tr style=\"text-align: right;\">\n",
       "      <th></th>\n",
       "      <th>Cn2</th>\n",
       "      <th>CT2</th>\n",
       "      <th>H_convection</th>\n",
       "      <th>crosswind</th>\n",
       "      <th>sigCrosswind</th>\n",
       "      <th>pressure</th>\n",
       "      <th>temp</th>\n",
       "      <th>humidity</th>\n",
       "      <th>pathLength</th>\n",
       "      <th>pathHeight</th>\n",
       "      <th>...</th>\n",
       "      <th>&lt;XA&gt;(c)</th>\n",
       "      <th>&lt;YA&gt;(c)</th>\n",
       "      <th>nSigXA(c)</th>\n",
       "      <th>nSigYA(c)</th>\n",
       "      <th>corXAYA(c)</th>\n",
       "      <th>numDgnValid</th>\n",
       "      <th>numDgnValidCrosswind</th>\n",
       "      <th>numDgnTotal</th>\n",
       "      <th>channelFlagsCombined</th>\n",
       "      <th>error</th>\n",
       "    </tr>\n",
       "    <tr>\n",
       "      <th>Time</th>\n",
       "      <th></th>\n",
       "      <th></th>\n",
       "      <th></th>\n",
       "      <th></th>\n",
       "      <th></th>\n",
       "      <th></th>\n",
       "      <th></th>\n",
       "      <th></th>\n",
       "      <th></th>\n",
       "      <th></th>\n",
       "      <th></th>\n",
       "      <th></th>\n",
       "      <th></th>\n",
       "      <th></th>\n",
       "      <th></th>\n",
       "      <th></th>\n",
       "      <th></th>\n",
       "      <th></th>\n",
       "      <th></th>\n",
       "      <th></th>\n",
       "      <th></th>\n",
       "    </tr>\n",
       "  </thead>\n",
       "  <tbody>\n",
       "    <tr>\n",
       "      <th>2019-05-24 05:26:00+02:00</th>\n",
       "      <td>1.461294e-15</td>\n",
       "      <td>0.000193</td>\n",
       "      <td>35.165860</td>\n",
       "      <td>NaN</td>\n",
       "      <td>NaN</td>\n",
       "      <td>1010.0</td>\n",
       "      <td>9.0</td>\n",
       "      <td>81</td>\n",
       "      <td>2032</td>\n",
       "      <td>25.62</td>\n",
       "      <td>...</td>\n",
       "      <td>20451.6</td>\n",
       "      <td>20609.4</td>\n",
       "      <td>0.010469</td>\n",
       "      <td>0.011068</td>\n",
       "      <td>-0.004</td>\n",
       "      <td>1</td>\n",
       "      <td>0</td>\n",
       "      <td>1</td>\n",
       "      <td>0</td>\n",
       "      <td>1</td>\n",
       "    </tr>\n",
       "    <tr>\n",
       "      <th>2019-05-24 05:27:00+02:00</th>\n",
       "      <td>1.870824e-15</td>\n",
       "      <td>0.000248</td>\n",
       "      <td>42.046137</td>\n",
       "      <td>NaN</td>\n",
       "      <td>NaN</td>\n",
       "      <td>1010.0</td>\n",
       "      <td>9.0</td>\n",
       "      <td>81</td>\n",
       "      <td>2032</td>\n",
       "      <td>25.62</td>\n",
       "      <td>...</td>\n",
       "      <td>20465.4</td>\n",
       "      <td>20579.2</td>\n",
       "      <td>0.013037</td>\n",
       "      <td>0.013001</td>\n",
       "      <td>0.120</td>\n",
       "      <td>2</td>\n",
       "      <td>0</td>\n",
       "      <td>2</td>\n",
       "      <td>0</td>\n",
       "      <td>1</td>\n",
       "    </tr>\n",
       "    <tr>\n",
       "      <th>2019-05-24 05:28:00+02:00</th>\n",
       "      <td>2.000249e-15</td>\n",
       "      <td>0.000265</td>\n",
       "      <td>44.339563</td>\n",
       "      <td>NaN</td>\n",
       "      <td>NaN</td>\n",
       "      <td>1010.0</td>\n",
       "      <td>9.0</td>\n",
       "      <td>81</td>\n",
       "      <td>2032</td>\n",
       "      <td>25.62</td>\n",
       "      <td>...</td>\n",
       "      <td>20346.9</td>\n",
       "      <td>20589.7</td>\n",
       "      <td>0.012148</td>\n",
       "      <td>0.013691</td>\n",
       "      <td>0.048</td>\n",
       "      <td>2</td>\n",
       "      <td>0</td>\n",
       "      <td>2</td>\n",
       "      <td>0</td>\n",
       "      <td>1</td>\n",
       "    </tr>\n",
       "    <tr>\n",
       "      <th>2019-05-24 05:29:00+02:00</th>\n",
       "      <td>2.266287e-15</td>\n",
       "      <td>0.000300</td>\n",
       "      <td>48.926414</td>\n",
       "      <td>NaN</td>\n",
       "      <td>NaN</td>\n",
       "      <td>1010.0</td>\n",
       "      <td>9.0</td>\n",
       "      <td>81</td>\n",
       "      <td>2032</td>\n",
       "      <td>25.62</td>\n",
       "      <td>...</td>\n",
       "      <td>20477.3</td>\n",
       "      <td>20494.0</td>\n",
       "      <td>0.013917</td>\n",
       "      <td>0.013173</td>\n",
       "      <td>0.016</td>\n",
       "      <td>2</td>\n",
       "      <td>0</td>\n",
       "      <td>2</td>\n",
       "      <td>0</td>\n",
       "      <td>1</td>\n",
       "    </tr>\n",
       "    <tr>\n",
       "      <th>2019-05-24 05:30:00+02:00</th>\n",
       "      <td>1.544393e-15</td>\n",
       "      <td>0.000204</td>\n",
       "      <td>36.694811</td>\n",
       "      <td>NaN</td>\n",
       "      <td>NaN</td>\n",
       "      <td>1010.0</td>\n",
       "      <td>9.0</td>\n",
       "      <td>81</td>\n",
       "      <td>2032</td>\n",
       "      <td>25.62</td>\n",
       "      <td>...</td>\n",
       "      <td>20428.3</td>\n",
       "      <td>20515.5</td>\n",
       "      <td>0.012816</td>\n",
       "      <td>0.010916</td>\n",
       "      <td>0.131</td>\n",
       "      <td>2</td>\n",
       "      <td>0</td>\n",
       "      <td>2</td>\n",
       "      <td>0</td>\n",
       "      <td>1</td>\n",
       "    </tr>\n",
       "    <tr>\n",
       "      <th>...</th>\n",
       "      <td>...</td>\n",
       "      <td>...</td>\n",
       "      <td>...</td>\n",
       "      <td>...</td>\n",
       "      <td>...</td>\n",
       "      <td>...</td>\n",
       "      <td>...</td>\n",
       "      <td>...</td>\n",
       "      <td>...</td>\n",
       "      <td>...</td>\n",
       "      <td>...</td>\n",
       "      <td>...</td>\n",
       "      <td>...</td>\n",
       "      <td>...</td>\n",
       "      <td>...</td>\n",
       "      <td>...</td>\n",
       "      <td>...</td>\n",
       "      <td>...</td>\n",
       "      <td>...</td>\n",
       "      <td>...</td>\n",
       "      <td>...</td>\n",
       "    </tr>\n",
       "    <tr>\n",
       "      <th>2019-05-24 16:36:00+02:00</th>\n",
       "      <td>1.141667e-14</td>\n",
       "      <td>0.001511</td>\n",
       "      <td>163.597698</td>\n",
       "      <td>NaN</td>\n",
       "      <td>NaN</td>\n",
       "      <td>1010.0</td>\n",
       "      <td>9.0</td>\n",
       "      <td>81</td>\n",
       "      <td>2032</td>\n",
       "      <td>25.62</td>\n",
       "      <td>...</td>\n",
       "      <td>17427.2</td>\n",
       "      <td>18494.8</td>\n",
       "      <td>0.029496</td>\n",
       "      <td>0.033662</td>\n",
       "      <td>0.093</td>\n",
       "      <td>2</td>\n",
       "      <td>0</td>\n",
       "      <td>2</td>\n",
       "      <td>0</td>\n",
       "      <td>1</td>\n",
       "    </tr>\n",
       "    <tr>\n",
       "      <th>2019-05-24 16:37:00+02:00</th>\n",
       "      <td>1.554255e-14</td>\n",
       "      <td>0.002057</td>\n",
       "      <td>205.643835</td>\n",
       "      <td>NaN</td>\n",
       "      <td>NaN</td>\n",
       "      <td>1010.0</td>\n",
       "      <td>9.0</td>\n",
       "      <td>81</td>\n",
       "      <td>2032</td>\n",
       "      <td>25.62</td>\n",
       "      <td>...</td>\n",
       "      <td>17469.0</td>\n",
       "      <td>18561.4</td>\n",
       "      <td>0.037205</td>\n",
       "      <td>0.035720</td>\n",
       "      <td>0.071</td>\n",
       "      <td>2</td>\n",
       "      <td>0</td>\n",
       "      <td>2</td>\n",
       "      <td>0</td>\n",
       "      <td>1</td>\n",
       "    </tr>\n",
       "    <tr>\n",
       "      <th>2019-05-24 16:38:00+02:00</th>\n",
       "      <td>1.496537e-14</td>\n",
       "      <td>0.001981</td>\n",
       "      <td>200.292508</td>\n",
       "      <td>NaN</td>\n",
       "      <td>NaN</td>\n",
       "      <td>1010.0</td>\n",
       "      <td>9.0</td>\n",
       "      <td>81</td>\n",
       "      <td>2032</td>\n",
       "      <td>25.62</td>\n",
       "      <td>...</td>\n",
       "      <td>17478.6</td>\n",
       "      <td>18564.7</td>\n",
       "      <td>0.043701</td>\n",
       "      <td>0.037374</td>\n",
       "      <td>0.280</td>\n",
       "      <td>2</td>\n",
       "      <td>0</td>\n",
       "      <td>2</td>\n",
       "      <td>0</td>\n",
       "      <td>1</td>\n",
       "    </tr>\n",
       "    <tr>\n",
       "      <th>2019-05-24 16:39:00+02:00</th>\n",
       "      <td>1.325753e-14</td>\n",
       "      <td>0.001755</td>\n",
       "      <td>182.709578</td>\n",
       "      <td>NaN</td>\n",
       "      <td>NaN</td>\n",
       "      <td>1010.0</td>\n",
       "      <td>9.0</td>\n",
       "      <td>81</td>\n",
       "      <td>2032</td>\n",
       "      <td>25.62</td>\n",
       "      <td>...</td>\n",
       "      <td>17553.0</td>\n",
       "      <td>18654.2</td>\n",
       "      <td>0.036683</td>\n",
       "      <td>0.034935</td>\n",
       "      <td>0.178</td>\n",
       "      <td>2</td>\n",
       "      <td>0</td>\n",
       "      <td>2</td>\n",
       "      <td>0</td>\n",
       "      <td>1</td>\n",
       "    </tr>\n",
       "    <tr>\n",
       "      <th>2019-05-24 16:40:00+02:00</th>\n",
       "      <td>1.156957e-14</td>\n",
       "      <td>0.001531</td>\n",
       "      <td>165.126648</td>\n",
       "      <td>NaN</td>\n",
       "      <td>NaN</td>\n",
       "      <td>1010.0</td>\n",
       "      <td>9.0</td>\n",
       "      <td>81</td>\n",
       "      <td>2032</td>\n",
       "      <td>25.62</td>\n",
       "      <td>...</td>\n",
       "      <td>17530.8</td>\n",
       "      <td>18651.0</td>\n",
       "      <td>0.033455</td>\n",
       "      <td>0.033115</td>\n",
       "      <td>0.169</td>\n",
       "      <td>2</td>\n",
       "      <td>0</td>\n",
       "      <td>2</td>\n",
       "      <td>0</td>\n",
       "      <td>1</td>\n",
       "    </tr>\n",
       "  </tbody>\n",
       "</table>\n",
       "<p>674 rows × 24 columns</p>\n",
       "</div>"
      ],
      "text/plain": [
       "                                    Cn2       CT2  H_convection  crosswind  \\\n",
       "Time                                                                         \n",
       "2019-05-24 05:26:00+02:00  1.461294e-15  0.000193     35.165860        NaN   \n",
       "2019-05-24 05:27:00+02:00  1.870824e-15  0.000248     42.046137        NaN   \n",
       "2019-05-24 05:28:00+02:00  2.000249e-15  0.000265     44.339563        NaN   \n",
       "2019-05-24 05:29:00+02:00  2.266287e-15  0.000300     48.926414        NaN   \n",
       "2019-05-24 05:30:00+02:00  1.544393e-15  0.000204     36.694811        NaN   \n",
       "...                                 ...       ...           ...        ...   \n",
       "2019-05-24 16:36:00+02:00  1.141667e-14  0.001511    163.597698        NaN   \n",
       "2019-05-24 16:37:00+02:00  1.554255e-14  0.002057    205.643835        NaN   \n",
       "2019-05-24 16:38:00+02:00  1.496537e-14  0.001981    200.292508        NaN   \n",
       "2019-05-24 16:39:00+02:00  1.325753e-14  0.001755    182.709578        NaN   \n",
       "2019-05-24 16:40:00+02:00  1.156957e-14  0.001531    165.126648        NaN   \n",
       "\n",
       "                           sigCrosswind  pressure  temp  humidity  pathLength  \\\n",
       "Time                                                                            \n",
       "2019-05-24 05:26:00+02:00           NaN    1010.0   9.0        81        2032   \n",
       "2019-05-24 05:27:00+02:00           NaN    1010.0   9.0        81        2032   \n",
       "2019-05-24 05:28:00+02:00           NaN    1010.0   9.0        81        2032   \n",
       "2019-05-24 05:29:00+02:00           NaN    1010.0   9.0        81        2032   \n",
       "2019-05-24 05:30:00+02:00           NaN    1010.0   9.0        81        2032   \n",
       "...                                 ...       ...   ...       ...         ...   \n",
       "2019-05-24 16:36:00+02:00           NaN    1010.0   9.0        81        2032   \n",
       "2019-05-24 16:37:00+02:00           NaN    1010.0   9.0        81        2032   \n",
       "2019-05-24 16:38:00+02:00           NaN    1010.0   9.0        81        2032   \n",
       "2019-05-24 16:39:00+02:00           NaN    1010.0   9.0        81        2032   \n",
       "2019-05-24 16:40:00+02:00           NaN    1010.0   9.0        81        2032   \n",
       "\n",
       "                           pathHeight  ...  <XA>(c)  <YA>(c)  nSigXA(c)  \\\n",
       "Time                                   ...                                \n",
       "2019-05-24 05:26:00+02:00       25.62  ...  20451.6  20609.4   0.010469   \n",
       "2019-05-24 05:27:00+02:00       25.62  ...  20465.4  20579.2   0.013037   \n",
       "2019-05-24 05:28:00+02:00       25.62  ...  20346.9  20589.7   0.012148   \n",
       "2019-05-24 05:29:00+02:00       25.62  ...  20477.3  20494.0   0.013917   \n",
       "2019-05-24 05:30:00+02:00       25.62  ...  20428.3  20515.5   0.012816   \n",
       "...                               ...  ...      ...      ...        ...   \n",
       "2019-05-24 16:36:00+02:00       25.62  ...  17427.2  18494.8   0.029496   \n",
       "2019-05-24 16:37:00+02:00       25.62  ...  17469.0  18561.4   0.037205   \n",
       "2019-05-24 16:38:00+02:00       25.62  ...  17478.6  18564.7   0.043701   \n",
       "2019-05-24 16:39:00+02:00       25.62  ...  17553.0  18654.2   0.036683   \n",
       "2019-05-24 16:40:00+02:00       25.62  ...  17530.8  18651.0   0.033455   \n",
       "\n",
       "                           nSigYA(c)  corXAYA(c)  numDgnValid  \\\n",
       "Time                                                            \n",
       "2019-05-24 05:26:00+02:00   0.011068      -0.004            1   \n",
       "2019-05-24 05:27:00+02:00   0.013001       0.120            2   \n",
       "2019-05-24 05:28:00+02:00   0.013691       0.048            2   \n",
       "2019-05-24 05:29:00+02:00   0.013173       0.016            2   \n",
       "2019-05-24 05:30:00+02:00   0.010916       0.131            2   \n",
       "...                              ...         ...          ...   \n",
       "2019-05-24 16:36:00+02:00   0.033662       0.093            2   \n",
       "2019-05-24 16:37:00+02:00   0.035720       0.071            2   \n",
       "2019-05-24 16:38:00+02:00   0.037374       0.280            2   \n",
       "2019-05-24 16:39:00+02:00   0.034935       0.178            2   \n",
       "2019-05-24 16:40:00+02:00   0.033115       0.169            2   \n",
       "\n",
       "                           numDgnValidCrosswind  numDgnTotal  \\\n",
       "Time                                                           \n",
       "2019-05-24 05:26:00+02:00                     0            1   \n",
       "2019-05-24 05:27:00+02:00                     0            2   \n",
       "2019-05-24 05:28:00+02:00                     0            2   \n",
       "2019-05-24 05:29:00+02:00                     0            2   \n",
       "2019-05-24 05:30:00+02:00                     0            2   \n",
       "...                                         ...          ...   \n",
       "2019-05-24 16:36:00+02:00                     0            2   \n",
       "2019-05-24 16:37:00+02:00                     0            2   \n",
       "2019-05-24 16:38:00+02:00                     0            2   \n",
       "2019-05-24 16:39:00+02:00                     0            2   \n",
       "2019-05-24 16:40:00+02:00                     0            2   \n",
       "\n",
       "                           channelFlagsCombined  error  \n",
       "Time                                                    \n",
       "2019-05-24 05:26:00+02:00                     0      1  \n",
       "2019-05-24 05:27:00+02:00                     0      1  \n",
       "2019-05-24 05:28:00+02:00                     0      1  \n",
       "2019-05-24 05:29:00+02:00                     0      1  \n",
       "2019-05-24 05:30:00+02:00                     0      1  \n",
       "...                                         ...    ...  \n",
       "2019-05-24 16:36:00+02:00                     0      1  \n",
       "2019-05-24 16:37:00+02:00                     0      1  \n",
       "2019-05-24 16:38:00+02:00                     0      1  \n",
       "2019-05-24 16:39:00+02:00                     0      1  \n",
       "2019-05-24 16:40:00+02:00                     0      1  \n",
       "\n",
       "[674 rows x 24 columns]"
      ]
     },
     "execution_count": 2,
     "metadata": {},
     "output_type": "execute_result"
    }
   ],
   "source": [
    "\"\"\"Data overview\"\"\"\n",
    "filename = \"2019-05-24\"\n",
    "station = \"schiessstand\"\n",
    "\n",
    "sdf = dp.scintillometer_parse(filename)\n",
    "sdf[\"Cn2\"] = (sdf[\"Cn2\"]) / 2032**(-3) * 1031.5**(-3)\n",
    "sdf[\"H_convection\"] = sdf[\"H_convection\"] / 2032**(-3) * 1031.5**(-3)\n",
    "sdf"
   ]
  },
  {
   "cell_type": "code",
   "execution_count": 3,
   "metadata": {
    "pycharm": {
     "is_executing": false,
     "name": "#%%\n"
    },
    "scrolled": true
   },
   "outputs": [
    {
     "name": "stdout",
     "output_type": "stream",
     "text": [
      "Mean path height: 31.83766108843537m\n",
      "Effective path height, stable: 31.34392287277671m\n",
      "Effective path height, unstable: 25.62897860987237m\n",
      "\n",
      "Please enter the time at which stable switches to unstable: 0712\n"
     ]
    },
    {
     "name": "stderr",
     "output_type": "stream",
     "text": [
      "/home/nick/PycharmProjects/Feldkurs/ss19-feldkurs/Pycode/cn_derivations.py:60: SettingWithCopyWarning: \n",
      "A value is trying to be set on a copy of a slice from a DataFrame.\n",
      "Try using .loc[row_indexer,col_indexer] = value instead\n",
      "\n",
      "See the caveats in the documentation: http://pandas.pydata.org/pandas-docs/stable/indexing.html#indexing-view-versus-copy\n",
      "  g / dataframe[\"temperature\"]) ** (1 / 2)\n"
     ]
    }
   ],
   "source": [
    "importlib.reload(cn)\n",
    "computed_data = cn.data_processor(filename, station)\n",
    "cdf = computed_data[\"computed\"]\n",
    "z_eff = {\"stable\": computed_data[\"z_eff_stable\"], \"unstable\": computed_data[\"z_eff_unstable\"]}"
   ]
  },
  {
   "cell_type": "code",
   "execution_count": 5,
   "metadata": {},
   "outputs": [
    {
     "data": {
      "text/plain": [
       "<matplotlib.axes._subplots.AxesSubplot at 0x7fc479008588>"
      ]
     },
     "execution_count": 5,
     "metadata": {},
     "output_type": "execute_result"
    },
    {
     "data": {
      "image/png": "[encoded data removed]",
      "text/plain": [
       "<Figure size 432x288 with 1 Axes>"
      ]
     },
     "metadata": {
      "needs_background": "light"
     },
     "output_type": "display_data"
    }
   ],
   "source": [
    "cdf[\"wind_dir\"].plot()"
   ]
  },
  {
   "cell_type": "code",
   "execution_count": null,
   "metadata": {},
   "outputs": [],
   "source": []
  },
  {
   "cell_type": "code",
   "execution_count": null,
   "metadata": {},
   "outputs": [],
   "source": [
    "fig = pp.plot_free_convection(sdf, cdf)\n",
    "plt.show()"
   ]
  },
  {
   "cell_type": "code",
   "execution_count": 6,
   "metadata": {
    "scrolled": false
   },
   "outputs": [
    {
     "name": "stdout",
     "output_type": "stream",
     "text": [
      "\n",
      "Iteration started\n"
     ]
    },
    {
     "name": "stderr",
     "output_type": "stream",
     "text": [
      "/home/nick/miniconda3/envs/py3/lib/python3.7/site-packages/pandas/core/indexing.py:190: SettingWithCopyWarning: \n",
      "A value is trying to be set on a copy of a slice from a DataFrame\n",
      "\n",
      "See the caveats in the documentation: http://pandas.pydata.org/pandas-docs/stable/indexing.html#indexing-view-versus-copy\n",
      "  self._setitem_with_indexer(indexer, value)\n",
      "/home/nick/PycharmProjects/Feldkurs/ss19-feldkurs/Pycode/r_function_port.py:109: SettingWithCopyWarning: \n",
      "A value is trying to be set on a copy of a slice from a DataFrame\n",
      "\n",
      "See the caveats in the documentation: http://pandas.pydata.org/pandas-docs/stable/indexing.html#indexing-view-versus-copy\n",
      "  \"obukhov\"].loc[index])\n",
      "/home/nick/PycharmProjects/Feldkurs/ss19-feldkurs/Pycode/r_function_port.py:111: SettingWithCopyWarning: \n",
      "A value is trying to be set on a copy of a slice from a DataFrame\n",
      "\n",
      "See the caveats in the documentation: http://pandas.pydata.org/pandas-docs/stable/indexing.html#indexing-view-versus-copy\n",
      "  dataframe[\"CT2\"].loc[index] * (zm_bls ** (2 / 3)) / f_mo)\n",
      "/home/nick/PycharmProjects/Feldkurs/ss19-feldkurs/Pycode/r_function_port.py:118: SettingWithCopyWarning: \n",
      "A value is trying to be set on a copy of a slice from a DataFrame\n",
      "\n",
      "See the caveats in the documentation: http://pandas.pydata.org/pandas-docs/stable/indexing.html#indexing-view-versus-copy\n",
      "  \"obukhov\"].loc[index])\n",
      "/home/nick/miniconda3/envs/py3/lib/python3.7/site-packages/pandas/core/indexing.py:362: SettingWithCopyWarning: \n",
      "A value is trying to be set on a copy of a slice from a DataFrame.\n",
      "Try using .loc[row_indexer,col_indexer] = value instead\n",
      "\n",
      "See the caveats in the documentation: http://pandas.pydata.org/pandas-docs/stable/indexing.html#indexing-view-versus-copy\n",
      "  self.obj[key] = _infer_fill_value(value)\n",
      "/home/nick/miniconda3/envs/py3/lib/python3.7/site-packages/pandas/core/indexing.py:543: SettingWithCopyWarning: \n",
      "A value is trying to be set on a copy of a slice from a DataFrame.\n",
      "Try using .loc[row_indexer,col_indexer] = value instead\n",
      "\n",
      "See the caveats in the documentation: http://pandas.pydata.org/pandas-docs/stable/indexing.html#indexing-view-versus-copy\n",
      "  self.obj[item] = s\n",
      "/home/nick/PycharmProjects/Feldkurs/ss19-feldkurs/Pycode/r_function_port.py:126: SettingWithCopyWarning: \n",
      "A value is trying to be set on a copy of a slice from a DataFrame\n",
      "\n",
      "See the caveats in the documentation: http://pandas.pydata.org/pandas-docs/stable/indexing.html#indexing-view-versus-copy\n",
      "  dataframe[\"shf\"].loc[index] = h_new\n"
     ]
    },
    {
     "ename": "ValueError",
     "evalue": "The truth value of a Series is ambiguous. Use a.empty, a.bool(), a.item(), a.any() or a.all().",
     "output_type": "error",
     "traceback": [
      "\u001b[0;31m---------------------------------------------------------------------------\u001b[0m",
      "\u001b[0;31mValueError\u001b[0m                                Traceback (most recent call last)",
      "\u001b[0;32m<ipython-input-6-d79595dc1f27>\u001b[0m in \u001b[0;36m<module>\u001b[0;34m\u001b[0m\n\u001b[1;32m      3\u001b[0m \u001b[0mcdf_backup\u001b[0m \u001b[0;34m=\u001b[0m \u001b[0mcdf\u001b[0m  \u001b[0;31m# in case of later testing\u001b[0m\u001b[0;34m\u001b[0m\u001b[0;34m\u001b[0m\u001b[0m\n\u001b[1;32m      4\u001b[0m \u001b[0mswitch_time\u001b[0m \u001b[0;34m=\u001b[0m \u001b[0;34m\"0712\"\u001b[0m\u001b[0;34m\u001b[0m\u001b[0;34m\u001b[0m\u001b[0m\n\u001b[0;32m----> 5\u001b[0;31m \u001b[0mcdf\u001b[0m \u001b[0;34m=\u001b[0m \u001b[0mrfp\u001b[0m\u001b[0;34m.\u001b[0m\u001b[0mward_method\u001b[0m\u001b[0;34m(\u001b[0m\u001b[0mcdf\u001b[0m\u001b[0;34m,\u001b[0m \u001b[0mz_eff\u001b[0m\u001b[0;34m,\u001b[0m \u001b[0mswitch_time\u001b[0m\u001b[0;34m)\u001b[0m\u001b[0;34m\u001b[0m\u001b[0;34m\u001b[0m\u001b[0m\n\u001b[0m",
      "\u001b[0;32m~/PycharmProjects/Feldkurs/ss19-feldkurs/Pycode/r_function_port.py\u001b[0m in \u001b[0;36mward_method\u001b[0;34m(dataframe, eff_h, switch_time)\u001b[0m\n\u001b[1;32m    143\u001b[0m         dataframe.index.indexer_between_time(\"00:00\", switch_time)]\n\u001b[1;32m    144\u001b[0m     \u001b[0;32mfor\u001b[0m \u001b[0mindex\u001b[0m\u001b[0;34m,\u001b[0m \u001b[0mrow\u001b[0m \u001b[0;32min\u001b[0m \u001b[0mdataframe_stable\u001b[0m\u001b[0;34m.\u001b[0m\u001b[0miterrows\u001b[0m\u001b[0;34m(\u001b[0m\u001b[0;34m)\u001b[0m\u001b[0;34m:\u001b[0m\u001b[0;34m\u001b[0m\u001b[0;34m\u001b[0m\u001b[0m\n\u001b[0;32m--> 145\u001b[0;31m         \u001b[0mobukhov\u001b[0m \u001b[0;34m=\u001b[0m \u001b[0mward_iteration\u001b[0m\u001b[0;34m(\u001b[0m\u001b[0mdataframe_stable\u001b[0m\u001b[0;34m,\u001b[0m \u001b[0mindex\u001b[0m\u001b[0;34m,\u001b[0m \u001b[0mz_eff\u001b[0m\u001b[0;34m[\u001b[0m\u001b[0;34m\"stable\"\u001b[0m\u001b[0;34m]\u001b[0m\u001b[0;34m)\u001b[0m\u001b[0;34m\u001b[0m\u001b[0;34m\u001b[0m\u001b[0m\n\u001b[0m\u001b[1;32m    146\u001b[0m         \u001b[0mdataframe_stable\u001b[0m\u001b[0;34m.\u001b[0m\u001b[0mloc\u001b[0m\u001b[0;34m[\u001b[0m\u001b[0mindex\u001b[0m\u001b[0;34m,\u001b[0m \u001b[0;34m\"obukhov\"\u001b[0m\u001b[0;34m]\u001b[0m \u001b[0;34m=\u001b[0m \u001b[0mobukhov\u001b[0m\u001b[0;34m\u001b[0m\u001b[0;34m\u001b[0m\u001b[0m\n\u001b[1;32m    147\u001b[0m     dataframe_unstable = dataframe.iloc[\n",
      "\u001b[0;32m~/PycharmProjects/Feldkurs/ss19-feldkurs/Pycode/r_function_port.py\u001b[0m in \u001b[0;36mward_iteration\u001b[0;34m(dataframe, index, zm_bls)\u001b[0m\n\u001b[1;32m    107\u001b[0m         dataframe[\"u_star\"].loc[index] = calc_u_star(u=dataframe[\n\u001b[1;32m    108\u001b[0m             \u001b[0;34m\"windspeed\"\u001b[0m\u001b[0;34m]\u001b[0m\u001b[0;34m.\u001b[0m\u001b[0mloc\u001b[0m\u001b[0;34m[\u001b[0m\u001b[0mindex\u001b[0m\u001b[0;34m]\u001b[0m\u001b[0;34m,\u001b[0m \u001b[0mz_u\u001b[0m\u001b[0;34m=\u001b[0m\u001b[0mzm_bls\u001b[0m\u001b[0;34m,\u001b[0m \u001b[0mz0\u001b[0m\u001b[0;34m=\u001b[0m\u001b[0mz0\u001b[0m\u001b[0;34m,\u001b[0m \u001b[0mobukhov\u001b[0m\u001b[0;34m=\u001b[0m\u001b[0mdataframe\u001b[0m\u001b[0;34m[\u001b[0m\u001b[0;34m\u001b[0m\u001b[0;34m\u001b[0m\u001b[0m\n\u001b[0;32m--> 109\u001b[0;31m             \"obukhov\"].loc[index])\n\u001b[0m\u001b[1;32m    110\u001b[0m         dataframe[\"theta_star\"].loc[index] = (-1) * math.sqrt(\n\u001b[1;32m    111\u001b[0m             dataframe[\"CT2\"].loc[index] * (zm_bls ** (2 / 3)) / f_mo)\n",
      "\u001b[0;32m~/PycharmProjects/Feldkurs/ss19-feldkurs/Pycode/r_function_port.py\u001b[0m in \u001b[0;36mcalc_u_star\u001b[0;34m(u, z_u, z0, obukhov)\u001b[0m\n\u001b[1;32m     89\u001b[0m \u001b[0;34m\u001b[0m\u001b[0m\n\u001b[1;32m     90\u001b[0m     cus = k * u / (math.log(z_u / z0) - psi_m(obukhov, z=z_u)\n\u001b[0;32m---> 91\u001b[0;31m                    + psi_m(obukhov, z=z0))\n\u001b[0m\u001b[1;32m     92\u001b[0m     \u001b[0;32mreturn\u001b[0m \u001b[0mcus\u001b[0m\u001b[0;34m\u001b[0m\u001b[0;34m\u001b[0m\u001b[0m\n\u001b[1;32m     93\u001b[0m \u001b[0;34m\u001b[0m\u001b[0m\n",
      "\u001b[0;32m~/PycharmProjects/Feldkurs/ss19-feldkurs/Pycode/r_function_port.py\u001b[0m in \u001b[0;36mpsi_m\u001b[0;34m(obukhov, z)\u001b[0m\n\u001b[1;32m     71\u001b[0m     \u001b[0;31m# obukhov   Obukhov Length / m\u001b[0m\u001b[0;34m\u001b[0m\u001b[0;34m\u001b[0m\u001b[0;34m\u001b[0m\u001b[0m\n\u001b[1;32m     72\u001b[0m     \u001b[0;31m# z     Height / m (e.g. (Zu - d), z0)\u001b[0m\u001b[0;34m\u001b[0m\u001b[0;34m\u001b[0m\u001b[0;34m\u001b[0m\u001b[0m\n\u001b[0;32m---> 73\u001b[0;31m     \u001b[0;32mif\u001b[0m \u001b[0mobukhov\u001b[0m \u001b[0;34m>\u001b[0m \u001b[0;36m0\u001b[0m\u001b[0;34m:\u001b[0m\u001b[0;34m\u001b[0m\u001b[0;34m\u001b[0m\u001b[0m\n\u001b[0m\u001b[1;32m     74\u001b[0m         \u001b[0mpm\u001b[0m \u001b[0;34m=\u001b[0m \u001b[0mpsi_m_stable\u001b[0m\u001b[0;34m(\u001b[0m\u001b[0mobukhov\u001b[0m\u001b[0;34m,\u001b[0m \u001b[0mz\u001b[0m\u001b[0;34m)\u001b[0m\u001b[0;34m\u001b[0m\u001b[0;34m\u001b[0m\u001b[0m\n\u001b[1;32m     75\u001b[0m     \u001b[0;32melse\u001b[0m\u001b[0;34m:\u001b[0m\u001b[0;34m\u001b[0m\u001b[0;34m\u001b[0m\u001b[0m\n",
      "\u001b[0;32m~/miniconda3/envs/py3/lib/python3.7/site-packages/pandas/core/generic.py\u001b[0m in \u001b[0;36m__nonzero__\u001b[0;34m(self)\u001b[0m\n\u001b[1;32m   1476\u001b[0m         raise ValueError(\"The truth value of a {0} is ambiguous. \"\n\u001b[1;32m   1477\u001b[0m                          \u001b[0;34m\"Use a.empty, a.bool(), a.item(), a.any() or a.all().\"\u001b[0m\u001b[0;34m\u001b[0m\u001b[0;34m\u001b[0m\u001b[0m\n\u001b[0;32m-> 1478\u001b[0;31m                          .format(self.__class__.__name__))\n\u001b[0m\u001b[1;32m   1479\u001b[0m \u001b[0;34m\u001b[0m\u001b[0m\n\u001b[1;32m   1480\u001b[0m     \u001b[0m__bool__\u001b[0m \u001b[0;34m=\u001b[0m \u001b[0m__nonzero__\u001b[0m\u001b[0;34m\u001b[0m\u001b[0;34m\u001b[0m\u001b[0m\n",
      "\u001b[0;31mValueError\u001b[0m: The truth value of a Series is ambiguous. Use a.empty, a.bool(), a.item(), a.any() or a.all()."
     ]
    }
   ],
   "source": [
    "\"\"\"Ward's iteration\"\"\"\n",
    "importlib.reload(rfp)\n",
    "\n",
    "# Takes 100s or so to run\n",
    "cdf_backup = cdf.copy(deep=True)  # in case of later testing\n",
    "\n",
    "switch_time = \"0557\"\n",
    "computed_data_stable = cn.data_processor(filename, station)\n",
    "\n",
    "z_eff_s = computed_data[\"effective_height\"]\n",
    "cdf_stable = computed_data_stable[\"computed\"].iloc[\n",
    "    cdf.index.indexer_between_time(\"00:00\", switch_time)].copy(deep=True)\n",
    "\n",
    "cdf_stable = rfp.ward_method(cdf_stable, z_eff, \"stable\")\n"
   ]
  },
  {
   "cell_type": "code",
   "execution_count": null,
   "metadata": {},
   "outputs": [],
   "source": [
    "cdf_stable"
   ]
  },
  {
   "cell_type": "code",
   "execution_count": null,
   "metadata": {},
   "outputs": [],
   "source": [
    "switch_time = \"0557\"\n",
    "computed_data_unstable = cn.data_processor(filename, station)\n",
    "z_eff_u = computed_data[\"effective_height\"]\n",
    "\n",
    "cdf_unstable = computed_data_unstable[\"computed\"].iloc[\n",
    "    cdf.index.indexer_between_time(switch_time, \"23:59\")].copy(deep=True)\n",
    "\n",
    "cdf_unstable = rfp.ward_method(cdf_unstable, z_eff_u, \"unstable\")"
   ]
  },
  {
   "cell_type": "code",
   "execution_count": null,
   "metadata": {},
   "outputs": [],
   "source": [
    "cdf_stable[\"shf\"] = -cdf_stable[\"shf\"]\n",
    "cdf_stable[\"obukhov\"] = -cdf_stable[\"obukhov\"]\n",
    "\n",
    "cdf = cdf_stable.append(cdf_unstable,sort=True)"
   ]
  },
  {
   "cell_type": "code",
   "execution_count": null,
   "metadata": {},
   "outputs": [],
   "source": [
    "cdf"
   ]
  },
  {
   "cell_type": "code",
   "execution_count": null,
   "metadata": {},
   "outputs": [],
   "source": [
    "import importlib\n",
    "importlib.reload(pp)\n",
    "fig = pp.plot_generic(cdf, \"shf\")\n",
    "plt.show()"
   ]
  },
  {
   "cell_type": "code",
   "execution_count": null,
   "metadata": {},
   "outputs": [],
   "source": [
    "header_list = [\"year\", \"month\", \"day\", \"hour\", \"minute\", \"second\", \"shf\", \"windspeed\", \"obukhov\"]\n",
    "rooftop = pd.read_csv(\"../../data/weather_data/rooftop.csv\",\n",
    "                           header=None, skiprows=1, index_col=None,\n",
    "                           names=header_list, sep=\",\")\n",
    "\n",
    "t_cols = ['year', 'month', 'day', 'hour', 'minute', \"second\"]\n",
    "rooftop.index = pd.to_datetime(rooftop[t_cols])\n",
    "\n",
    "# Remove the useless columns\n",
    "rooftop = rooftop.drop(t_cols, axis=1)\n",
    "rooftop = rooftop.replace(-999, np.nan)\n",
    "rooftop = rooftop.fillna(method=\"ffill\")\n",
    "\n",
    "oidx = rooftop.index\n",
    "nidx = pd.date_range(oidx.min(), oidx.max(), freq='60s')\n",
    "rooftop = rooftop.reindex(oidx.union(nidx)).interpolate(\n",
    "    'index').reindex(nidx).tz_localize(\"UTC\")\n",
    "rooftop.index = rooftop.index + pd.DateOffset(hours=1)\n",
    "rooftop"
   ]
  },
  {
   "cell_type": "code",
   "execution_count": null,
   "metadata": {},
   "outputs": [],
   "source": [
    "wdf = dp.weather_download(\"2019-05-24\")\n",
    "wdf = wdf.loc[\"2019-05-24 03:30\":\"2019-05-24 15:00\"]\n",
    "wdf"
   ]
  },
  {
   "cell_type": "code",
   "execution_count": null,
   "metadata": {},
   "outputs": [],
   "source": [
    "hourly_cdf = pd.DataFrame()\n",
    "hourly_cdf[\"windspeed_mean\"] = 0\n",
    "# hourly_cdf[\"windspeed_std\"] = hourly_cdf[\"windspeed\"].astype(\"float64\").resample(\"H\").std()\n",
    "hourly_cdf[\"windspeed_mean\"] = cdf[\"windspeed\"].astype(\"float64\").resample(\"600S\").mean()\n",
    "\n",
    "hourly_roof = pd.DataFrame()\n",
    "hourly_roof[\"windspeed_mean\"] = 0\n",
    "# hourly_cdf[\"windspeed_std\"] = hourly_cdf[\"windspeed\"].astype(\"float64\").resample(\"H\").std()\n",
    "hourly_roof[\"windspeed_mean\"] = rooftop[\"windspeed\"].astype(\"float64\").resample(\"600S\").mean()\n",
    "\n",
    "fig = plt.figure(figsize=(26, 8))\n",
    "(cdf[\"windspeed\"]).astype(\"float64\").plot(color=\"grey\", label=\"Scintillometer\")\n",
    "# hourly_cdf[\"windspeed_mean\"].astype(\"float64\").plot(\n",
    "#     color=\"black\", linestyle=\"dashed\", label=\"Scintillometer, hourly mean\")\n",
    "\n",
    "(rooftop[\"windspeed\"]).astype(\"float64\").plot(color=\"red\", linestyle = \"dashed\", label=\"InnFLUX, half-hourly mean\")\n",
    "wdf[\"wg\"].astype(\"float64\").plot(color=\"black\", linestyle=\"dashed\", label=\"ZAMG Hourly Mean\")\n",
    "\n",
    "plt.legend(loc=\"upper left\", fontsize = 20)\n",
    "plt.xlabel(\"Time, CET\", fontsize = 20)\n",
    "# plt.ylabel(\"Mean Wind Speeds, [m$\\cdot$s$^{-2}$]\", fontsize = 20)\n",
    "# plt.ylabel(\"Obukhov Length, [m]\", fontsize=20)\n",
    "# plt.title(\"Obukhov Lengths for Schießstand, 24$^{th}$ May 2019\", fontweight=\"bold\", fontsize = 24)\n",
    "plt.title(\"Mean Wind Speeds for Schießstand, 24$^{th}$ May 2019\", fontweight=\"bold\", fontsize = 24)\n",
    "plt.ylabel(\"Mean Wind Speed, [m$\\cdot s^{-2}$]\", fontsize=20)\n",
    "ax = plt.gca()\n",
    "ax.xaxis.set_major_formatter(\n",
    "    dates.DateFormatter('%H:%M'))  # hours and minutes\n",
    "plt.show()\n",
    "\n",
    "# fig.savefig('./plots/ERTEL/windspeed_series.png', bbox_inches='tight')"
   ]
  },
  {
   "cell_type": "code",
   "execution_count": null,
   "metadata": {},
   "outputs": [],
   "source": [
    "cdf[\"shf\"]"
   ]
  },
  {
   "cell_type": "code",
   "execution_count": null,
   "metadata": {},
   "outputs": [],
   "source": [
    "cdf[\"shf\"].iloc[4:]"
   ]
  },
  {
   "cell_type": "code",
   "execution_count": null,
   "metadata": {},
   "outputs": [],
   "source": [
    "rooftop[\"shf\"].iloc[:611]"
   ]
  },
  {
   "cell_type": "code",
   "execution_count": null,
   "metadata": {},
   "outputs": [],
   "source": [
    "ro = pd.DataFrame()\n",
    "df_m = pd.DataFrame()\n",
    "ro = rooftop[\"shf\"].astype(float).resample(\"0.5H\").mean()\n",
    "df_m = cdf[\"shf\"].astype(float).iloc[4:].resample(\"0.5H\").mean()\n"
   ]
  },
  {
   "cell_type": "code",
   "execution_count": null,
   "metadata": {},
   "outputs": [],
   "source": [
    "me = pd.DataFrame()\n",
    "me[\"roof\"] = ro\n",
    "me[\"shf\"] = df_m\n"
   ]
  },
  {
   "cell_type": "code",
   "execution_count": null,
   "metadata": {},
   "outputs": [],
   "source": [
    "df = pd.DataFrame()\n",
    "# df = cdf.filter([\"\"])\n",
    "df[\"shf\"] = cdf[\"shf\"].iloc[4:].astype(\"float\")\n",
    "df[\"roof_shf\"] = rooftop[\"shf\"].iloc[:611].astype(\"float\")\n",
    "df = df.dropna()\n",
    "X = df[\"shf\"].values.reshape(-1, 1)  # values converts it into a numpy array\n",
    "Y = df[\"roof_shf\"].iloc[:611].values.reshape(-1, 1)  # -1 means that calculate the dimension of rows, but have 1 column"
   ]
  },
  {
   "cell_type": "code",
   "execution_count": null,
   "metadata": {
    "scrolled": false
   },
   "outputs": [],
   "source": [
    "\n",
    "me = me.dropna()\n",
    "X = me[\"shf\"].values.reshape(-1, 1)  # values converts it into a numpy array\n",
    "Y = me[\"roof\"].values.reshape(-1, 1)  # -1 means that calculate the dimension of rows, but have 1 column"
   ]
  },
  {
   "cell_type": "code",
   "execution_count": null,
   "metadata": {},
   "outputs": [],
   "source": [
    "df = pd.DataFrame()\n",
    "# df = cdf.filter([\"\"])\n",
    "df[\"obukhov\"] = cdf_unstable[\"obukhov\"].iloc[4:].astype(\"float\")\n",
    "df[\"roof_ob\"] = rooftop[\"obukhov\"].iloc[:611].astype(\"float\")\n",
    "# df = df[df[\"obukhov\"] !=0]\n",
    "df = df.dropna()\n",
    "X = df[\"obukhov\"].values.reshape(-1, 1)  # values converts it into a numpy array\n",
    "Y = df[\"roof_ob\"].iloc[:611].values.reshape(-1, 1)  # -1 means that calculate the dimension of rows, but have 1 column"
   ]
  },
  {
   "cell_type": "code",
   "execution_count": null,
   "metadata": {},
   "outputs": [],
   "source": []
  },
  {
   "cell_type": "code",
   "execution_count": null,
   "metadata": {},
   "outputs": [],
   "source": [
    "\n",
    "fig = plt.figure(figsize=(8, 8))\n",
    "\n",
    "plt.scatter(X, Y, marker=\".\", color=\"black\")\n",
    "plt.title(\"Sensible Heat Flux Regression for Schießstand, 24$^{th}$ May 2019\", fontweight=\"bold\", fontsize = 22)\n",
    "# plt.xlabel(\"Scintillometer Flux\", fontsize = 20)\n",
    "plt.ylabel(\"InnFLUX Sensible Heat Flux, [W$\\cdot m^{-2}$]\", fontsize = 20)\n",
    "ax = plt.gca()\n",
    "ax.set_xlabel(\"Scintillometer Sensible Heat Flux, [W$\\cdot m^{-2}$]\", fontsize = 20)\n",
    "\n",
    "# Linear Regression\n",
    "\n",
    "linear_regressor = LinearRegression()  # create object for the class\n",
    "reg = linear_regressor.fit(X, Y)  # perform linear regression\n",
    "Y_pred = linear_regressor.predict(X) # make predictions\n",
    "plt.plot(X, Y_pred, color='black', label=\"Regression Line\")\n",
    "\n",
    "plt.text(0.05, 0.9, str(\"R$^{2}$= \" + str(round(reg.score(X,Y), 5))), horizontalalignment='left',\n",
    "     verticalalignment='bottom', transform=ax.transAxes, fontsize=20)\n",
    "Y1 = X\n",
    "linear_regressor = LinearRegression()  # create object for the class\n",
    "reg = linear_regressor.fit(X, Y1)  # perform linear regression\n",
    "Y1_pred = linear_regressor.predict(X) # make predictions\n",
    "plt.plot(X, Y1_pred, color='red', label =\"1:1 Reference\")\n",
    "plt.legend(loc=\"lower right\")\n",
    "\n",
    "\n",
    "plt.show()\n",
    "# \n",
    "# fig.savefig('./plots/ZAMG/shf_regression_final.png', bbox_inches='tight')"
   ]
  },
  {
   "cell_type": "code",
   "execution_count": null,
   "metadata": {},
   "outputs": [],
   "source": [
    "hourly_cdf[\"obukhov_mean\"] = 0\n",
    "# hourly_cdf[\"shf_std\"] = hourly_cdf[\"shf\"].astype(\"float64\").resample(\"H\").std()\n",
    "hourly_cdf[\"obukhov_mean\"] = cdf[\"obukhov\"].astype(\"float64\").resample(\"600S\").mean()\n",
    "\n",
    "fig = plt.figure(figsize=(26, 6))\n",
    "cdf[\"obukhov\"].astype(\"float64\").plot(color=\"grey\", label=\"Time series\")\n",
    "hourly_cdf[\"obukhov_mean\"].astype(\"float64\").plot(\n",
    "    color=\"black\", linestyle=\"dashed\", label=\"10-minute mean\")\n",
    "\n",
    "plt.legend(loc=\"lower left\")\n",
    "plt.xlabel(\"Time, CET\")\n",
    "ax = plt.gca()\n",
    "ax.xaxis.set_major_formatter(\n",
    "    dates.DateFormatter('%H:%M'))  # hours and minutes\n",
    "plt.show()"
   ]
  },
  {
   "cell_type": "code",
   "execution_count": null,
   "metadata": {},
   "outputs": [],
   "source": [
    "fig = plt.figure(figsize=(26, 6))\n",
    "cdf = cdf.tz_convert(\"UTC\")\n",
    "# sdf[\"H_convection\"].plot(color=\"black\", label=\"Scintillometer\")\n",
    "cdf[\"shf\"].plot(color=\"red\", label=\"Iterated Flux\")\n",
    "\n",
    "plt.legend(loc=\"upper left\")\n",
    "plt.title(\n",
    "    r\"Sensible Heat Fluxes $Q_{H}$ from Scintillometer and from Iteration\",\n",
    "    fontweight=\"bold\")\n",
    "plt.xlabel(\"Time\")\n",
    "plt.ylabel(\"Sensible Heat Flux, [W$\\cdot$m$^{-2}$]\")\n",
    "ax = plt.gca()\n",
    "ax.xaxis.set_major_formatter(\n",
    "    dates.DateFormatter('%H:%M'))  # hours and minutes"
   ]
  },
  {
   "cell_type": "code",
   "execution_count": 6,
   "metadata": {},
   "outputs": [
    {
     "data": {
      "image/png": "[encoded data removed]",
      "text/plain": [
       "<Figure size 1872x432 with 1 Axes>"
      ]
     },
     "metadata": {
      "needs_background": "light"
     },
     "output_type": "display_data"
    }
   ],
   "source": [
    "fig = plt.figure(figsize=(26, 6))\n",
    "cdf = cdf.tz_convert(\"UTC\")\n",
    "# sdf[\"H_convection\"].plot(color=\"black\", label=\"Scintillometer\")\n",
    "cdf[\"wind_dir\"].plot(color=\"red\", label=\"Iterated Flux\")\n",
    "\n",
    "plt.legend(loc=\"upper left\")\n",
    "plt.title(\n",
    "    r\"Sensible Heat Fluxes $Q_{H}$ from Scintillometer and from Iteration\",\n",
    "    fontweight=\"bold\")\n",
    "plt.xlabel(\"Time\")\n",
    "plt.ylabel(\"Sensible Heat Flux, [W$\\cdot$m$^{-2}$]\")\n",
    "ax = plt.gca()\n",
    "ax.xaxis.set_major_formatter(\n",
    "    dates.DateFormatter('%H:%M'))  # hours and minutes"
   ]
  },
  {
   "cell_type": "code",
   "execution_count": null,
   "metadata": {},
   "outputs": [],
   "source": [
    "cdf"
   ]
  },
  {
   "cell_type": "code",
   "execution_count": null,
   "metadata": {},
   "outputs": [],
   "source": [
    "cdf_backup = cdf.copy(deep=True)"
   ]
  },
  {
   "cell_type": "code",
   "execution_count": null,
   "metadata": {},
   "outputs": [],
   "source": [
    "cdf = cdf.tz_convert(\"UTC\")"
   ]
  },
  {
   "cell_type": "code",
   "execution_count": null,
   "metadata": {},
   "outputs": [],
   "source": [
    "z_eff"

   ]
  },
  {
   "cell_type": "code",
   "execution_count": null,
   "metadata": {},
   "outputs": [],
   "source": [
    "column_headers = [\"yyyy\", \"MM\", \"day\", \"HH\", \"MM\", \"zm\", \"d\", \"z0\",\n",
    "                  \"u_mean\", \"L\", \"sigma_v\", \"u_star\", \"wind_dir\",\n",
    "                  \"temperature, pressure, windspeed, shf, H_free, obukhov\"]\n",
    "ndf = cdf.copy().filter([\"wind_dir\", \"temperature\", \"pressure\", \"windspeed\", \"shf\", \"H_free\", \"obukhov\"])\n",
    "\n",
    "ndf[\"yyyy\"] = cdf.index.year\n",
    "ndf[\"mm\"] = cdf.index.month\n",
    "ndf[\"day\"] = cdf.index.day\n",
    "ndf[\"HH\"] = cdf.index.hour\n",
    "ndf[\"MM\"] = cdf.index.minute\n",
    "ndf[\"zm\"] = 40.9\n",
    "ndf[\"d\"] = 0.7 * 12\n",
    "ndf[\"z0\"] = -999\n",
    "ndf[\"u_mean\"] = cdf[\"windspeed\"].mean()\n",
    "ndf[\"L\"] = cdf[\"obukhov\"].fillna(value=-999)\n",
    "ndf[\"sigma_v\"] = (np.sqrt(((cdf[\"windspeed\"]-ndf[\"u_mean\"])**2)).mean())\n",
    "ndf[\"sigma_v\"] = ndf[\"sigma_v\"].fillna(value=-999)\n",
    "ndf[\"u_star\"] = cdf[\"u_star\"].fillna(value=-999)\n",
    "ndf[\"wind_dir\"] = cdf[\"wind_dir\"].fillna(value=-999)\n",
    "ndf"
   ]
  },
  {
   "cell_type": "code",
   "execution_count": null,
   "metadata": {},
   "outputs": [],
   "source": [
    "# ndf.to_csv(path_or_buf=\"../ffp/ffp_midpoint.csv\", index=None) "
   ]
  },
  {
   "cell_type": "code",
   "execution_count": null,
   "metadata": {},
   "outputs": [],
   "source": [
    "column_headers = [\"yyyy\", \"MM\", \"day\", \"HH\", \"MM\", \"zm\", \"d\", \"z0\", \"u_mean\", \"L\", \"sigma_v\", \"u_star\", \"wind_dir\"]\n",
    "ndf = cdf.copy().filter(\"wind_dir\")\n",
    "\n",
    "ndf[\"yyyy\"] = cdf.index.year\n",
    "ndf[\"mm\"] = cdf.index.month\n",
    "ndf[\"day\"] = cdf.index.day\n",
    "ndf[\"HH\"] = cdf.index.hour\n",
    "ndf[\"MM\"] = cdf.index.minute\n",
    "ndf[\"zm\"] = 22.5587\n",
    "ndf[\"d\"] = 0.7 * 12\n",
    "ndf[\"z0\"] = -999\n",
    "ndf[\"u_mean\"] = cdf[\"windspeed\"].mean()\n",
    "ndf[\"L\"] = cdf[\"obukhov\"].fillna(value=-999)\n",
    "ndf[\"sigma_v\"] = (np.sqrt(((cdf[\"windspeed\"]-ndf[\"u_mean\"])**2)).mean())\n",
    "ndf[\"sigma_v\"] = ndf[\"sigma_v\"].fillna(value=-999)\n",
    "ndf[\"u_star\"] = cdf[\"u_star\"].fillna(value=-999)\n",
    "ndf[\"wind_dir\"] = cdf[\"wind_dir\"].fillna(value=-999)\n",
    "ndf_backup = ndf.copy()\n",
    "ndf = ndf.reset_index(drop=True)\n",
    "ndf\n",
    "ndf.to_csv(path_or_buf=\"./rasters/datasets/q825.csv\", index=None)"
   ]
  },
  {
   "cell_type": "code",
   "execution_count": null,
   "metadata": {},
   "outputs": [],
   "source": []
  },
  {
   "cell_type": "code",
   "execution_count": null,
   "metadata": {},
   "outputs": [],
   "source": [
    "exdf = cdf.loc[:\"2019-05-24 07:55\"].copy(deep=True)\n",
    "exdf.to_csv(path_or_buf=\"../data/weather_data/schiessstand_bound.csv\")"
   ]
  },
  {
   "cell_type": "code",
   "execution_count": null,
   "metadata": {},
   "outputs": [],
   "source": [
    "\n"
   ]
  }
 ],
 "metadata": {
  "kernelspec": {
   "display_name": "Python 3",
   "language": "python",
   "name": "python3"
  },
  "language_info": {
   "codemirror_mode": {
    "name": "ipython",
    "version": 3
   },
   "file_extension": ".py",
   "mimetype": "text/x-python",
   "name": "python",
   "nbconvert_exporter": "python",
   "pygments_lexer": "ipython3",
   "version": "3.7.3"
  },
  "pycharm": {
   "stem_cell": {
    "cell_type": "raw",
    "metadata": {
     "collapsed": false
    },
    "source": []
   }
  }
 },
 "nbformat": 4,
 "nbformat_minor": 2
}
