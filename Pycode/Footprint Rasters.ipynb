{
 "cells": [
  {
   "cell_type": "code",
   "execution_count": 1,
   "metadata": {},
   "outputs": [],
   "source": [
    "import rasterio\n",
    "import rasterio.plot\n",
    "import pyproj\n",
    "import numpy as np\n",
    "import matplotlib\n",
    "import matplotlib.pyplot as plt\n",
    "import georaster\n",
    "from osgeo import osr\n",
    "import scipy.io\n",
    "\n",
    "mat = scipy.io.loadmat('./rasters/midm.mat')\n",
    "ref = osr.SpatialReference()\n",
    "# Import from Proj.4\n",
    "\n",
    "# Or EPSG code\n",
    "ref.ImportFromEPSG(31254)\n",
    "tly = 237155.63 + 2486\n",
    "tlx = 79029.64 - 2486\n",
    "trans_q3 = (tlx, 10, 0, tly, 0, -10)\n",
    "\n",
    "# im = georaster.SingleBandRaster('../ffp/hq3_raster_fclim2d.txt',\n",
    "#                                 spatial_ref=ref, geo_transform=trans_q3)\n",
    "# trans_mid = (tlx, 5.99, 0, tly, 0, -10)"
   ]
  },
  {
   "cell_type": "code",
   "execution_count": 2,
   "metadata": {
    "scrolled": true
   },
   "outputs": [],
   "source": [
    "array = mat[\"midm\"][\"fclim\"][0][0] * 10**12\n"
   ]
  },
  {
   "cell_type": "code",
   "execution_count": 3,
   "metadata": {},
   "outputs": [
    {
     "data": {
      "text/plain": [
       "5.983879032258065"
      ]
     },
     "execution_count": 3,
     "metadata": {},
     "output_type": "execute_result"
    }
   ],
   "source": [
    "import numpy as np\n",
    "from osgeo import gdal\n",
    "from osgeo import gdal_array\n",
    "from osgeo import osr\n",
    "import matplotlib.pylab as plt\n",
    "\n",
    "array = mat[\"midm\"][\"fclim\"][0][0]\n",
    "# My image array      \n",
    "lat = mat[\"midm\"][\"yn\"][0][0]\n",
    "lon = mat[\"midm\"][\"xn\"][0][0]\n",
    "# For each pixel I know it's latitude and longitude.\n",
    "# As you'll see below you only really need the coordinates of\n",
    "# one corner, and the resolution of the file.\n",
    "\n",
    "xmin,ymin,xmax,ymax = [lon.min(),lat.min(),lon.max(),lat.max()]\n",
    "nrows,ncols = np.shape(array)\n",
    "xres = (xmax-xmin)/float(ncols)\n",
    "yres = (ymax-ymin)/float(nrows)\n",
    "geotransform=(xmin,xres,0,ymax,0, -yres)   \n",
    "# That's (top left x, w-e pixel resolution, rotation (0 if North is up), \n",
    "#         top left y, rotation (0 if North is up), n-s pixel resolution)\n",
    "# I don't know why rotation is in twice???\n",
    "x = (np.max(lon) - np.min(lon))/496\n",
    "x"
   ]
  },
  {
   "cell_type": "code",
   "execution_count": 4,
   "metadata": {},
   "outputs": [],
   "source": [
    "output_raster = gdal.GetDriverByName('GTiff').Create('myraster.tif',ncols, nrows, 1 ,gdal.GDT_Float32)  # Open the file\n",
    "srs = osr.SpatialReference()                 # Establish its coordinate encoding\n",
    "srs.ImportFromEPSG(31254)                     # This one specifies WGS84 lat long.\n",
    "output_raster.SetGeoTransform(geotransform)  # Specify its coordinates\n",
    "\n",
    "output_raster.SetProjection( srs.ExportToWkt() )   # Exports the coordinate system to the file\n",
    "output_raster.GetRasterBand(1).WriteArray(array)   # Writes my array to the raster\n",
    "\n",
    "output_raster.FlushCache()"
   ]
  },
  {
   "cell_type": "code",
   "execution_count": 5,
   "metadata": {},
   "outputs": [
    {
     "data": {
      "image/png": "[encoded data removed]",
      "text/plain": [
       "<Figure size 576x576 with 1 Axes>"
      ]
     },
     "metadata": {
      "needs_background": "light"
     },
     "output_type": "display_data"
    },
    {
     "data": {
      "text/plain": [
       "<matplotlib.axes._subplots.AxesSubplot at 0x7f5dc19686d8>"
      ]
     },
     "execution_count": 5,
     "metadata": {},
     "output_type": "execute_result"
    }
   ],
   "source": [
    "import rasterio\n",
    "from rasterio.merge import merge\n",
    "from rasterio.plot import show\n",
    "import gdal\n",
    "import glob\n",
    "import os\n",
    "warped = rasterio.open(\"myraster.tif\")\n",
    "fig = plt.figure(figsize=(8, 8))\n",
    "show(warped, cmap=\"terrain\")"
   ]
  },
  {
   "cell_type": "code",
   "execution_count": 6,
   "metadata": {},
   "outputs": [],
   "source": [
    "drv = gdal.GetDriverByName('GTiff')\n",
    "ds_in = gdal.Open('./rasters/q3r.asc')\n",
    "ds_out = drv.CreateCopy('out.tif', ds_in)\n",
    "srs = osr.SpatialReference()\n",
    "srs.ImportFromEPSG(31254)\n",
    "ds_out.SetProjection(srs.ExportToWkt())\n",
    "ds_in = None\n",
    "ds_out = None"
   ]
  },
  {
   "cell_type": "code",
   "execution_count": 7,
   "metadata": {
    "scrolled": false
   },
   "outputs": [
    {
     "name": "stdout",
     "output_type": "stream",
     "text": [
      "./rasters/*_new.tif\n",
      "['./rasters/qmid_new.tif', './rasters/q1r_new.tif', './rasters/q3r_new.tif']\n"
     ]
    },
    {
     "data": {
      "image/png": "[encoded data removed]",
      "text/plain": [
       "<Figure size 576x576 with 1 Axes>"
      ]
     },
     "metadata": {
      "needs_background": "light"
     },
     "output_type": "display_data"
    },
    {
     "data": {
      "image/png": "[encoded data removed]",
      "text/plain": [
       "<Figure size 576x576 with 1 Axes>"
      ]
     },
     "metadata": {
      "needs_background": "light"
     },
     "output_type": "display_data"
    },
    {
     "data": {
      "text/plain": [
       "<matplotlib.axes._subplots.AxesSubplot at 0x7f5dbf148828>"
      ]
     },
     "execution_count": 7,
     "metadata": {},
     "output_type": "execute_result"
    }
   ],
   "source": [
    "import rasterio\n",
    "from rasterio.merge import merge\n",
    "from rasterio.plot import show\n",
    "import gdal\n",
    "import glob\n",
    "import os\n",
    "\n",
    "dirpath = r\"./rasters\"\n",
    "\n",
    "out_fp = r\"./rasters/mosaic.tif\"\n",
    "\n",
    "search_criteria = \"*_new.tif\"\n",
    "q = os.path.join(dirpath, search_criteria)\n",
    "print(q)\n",
    "dem_fps = glob.glob(q)\n",
    "print(dem_fps)\n",
    "\n",
    "src_files_to_mosaic = []\n",
    "\n",
    "for fp in dem_fps:\n",
    "    src = rasterio.open(fp)\n",
    "    src_files_to_mosaic.append(src)\n",
    "    \n",
    "mosaic, out_trans = merge(src_files_to_mosaic)\n",
    "fig = plt.figure(figsize=(8, 8))\n",
    "show(mosaic, cmap='terrain')\n",
    "plt.show()\n",
    "gdal.Warp(\"./rasters/x.tif\", dem_fps) \n",
    "\n",
    "warped = rasterio.open(\"./rasters/x.tif\")\n",
    "fig = plt.figure(figsize=(8, 8))\n",
    "show(warped, cmap=\"terrain\")\n"
   ]
  },
  {
   "cell_type": "code",
   "execution_count": 8,
   "metadata": {},
   "outputs": [
    {
     "data": {
      "text/plain": [
       "['./rasters/qmid_new.tif', './rasters/q1r_new.tif', './rasters/q3r_new.tif']"
      ]
     },
     "execution_count": 8,
     "metadata": {},
     "output_type": "execute_result"
    }
   ],
   "source": [
    "dem_fps"
   ]
  },
  {
   "cell_type": "code",
   "execution_count": 9,
   "metadata": {
    "scrolled": true
   },
   "outputs": [],
   "source": [
    "def readFile(filename):\n",
    "    filehandle = gdal.Open(filename)\n",
    "    band1 = filehandle.GetRasterBand(1)\n",
    "    geotransform = filehandle.GetGeoTransform()\n",
    "    geoproj = filehandle.GetProjection()\n",
    "    Z = band1.ReadAsArray()\n",
    "    xsize = filehandle.RasterXSize\n",
    "    ysize = filehandle.RasterYSize\n",
    "    return xsize, ysize, geotransform, geoproj, Z\n",
    "\n",
    "# [xsize, ysize, geotransform, geoproj, Z] = readFile(dem_fps[0])\n",
    "\n",
    "# from scipy import stats\n",
    "\n",
    "# m = stats.mode(Z[0])\n",
    "# m"
   ]
  },
  {
   "cell_type": "code",
   "execution_count": 10,
   "metadata": {},
   "outputs": [],
   "source": [
    "def asc_to_tif(q_num):\n",
    "    drv = gdal.GetDriverByName('GTiff')\n",
    "    in_path = \"./rasters/asc_loose/q\" + str(q_num) + \".asc\"\n",
    "    out_path = \"./rasters/gen_tif/q\" + str(q_num) + \".tif\" \n",
    "    ds_in = gdal.Open(in_path)\n",
    "    ds_out = drv.CreateCopy(out_path, ds_in)\n",
    "    srs = osr.SpatialReference()\n",
    "    srs.ImportFromEPSG(31254)\n",
    "    ds_out.SetProjection(srs.ExportToWkt())\n",
    "    ds_in = None\n",
    "    ds_out = None\n",
    "    \n",
    "\n",
    "def writeFile(filename, geotransform, geoprojection, data):\n",
    "    (x, y) = data.shape\n",
    "    format = \"GTiff\"\n",
    "    driver = gdal.GetDriverByName(format)\n",
    "    # you can change the dataformat but be sure to be able to store negative\n",
    "    # values including -9999\n",
    "    dst_datatype = gdal.GDT_Float32\n",
    "    dst_ds = driver.Create(filename, y, x, 1, dst_datatype)\n",
    "    dst_ds.GetRasterBand(1).WriteArray(data)\n",
    "    dst_ds.SetGeoTransform(geotransform)\n",
    "    dst_ds.SetProjection(geoprojection)\n",
    "    dst_ds.GetRasterBand(1).SetNoDataValue(-9999)\n",
    "    dst_ds = None\n",
    "    return 1"
   ]
  },
  {
   "cell_type": "code",
   "execution_count": 11,
   "metadata": {},
   "outputs": [],
   "source": [
    "q_num_list = [\"125\", \"250\",\"375\",\"500\",\"625\",\"750\",\"875\"]\n",
    "for num in q_num_list:\n",
    "    asc_to_tif(num)"
   ]
  },
  {
   "cell_type": "code",
   "execution_count": 12,
   "metadata": {},
   "outputs": [
    {
     "data": {
      "image/png": "[encoded data removed]",
      "text/plain": [
       "<Figure size 576x576 with 1 Axes>"
      ]
     },
     "metadata": {
      "needs_background": "light"
     },
     "output_type": "display_data"
    },
    {
     "data": {
      "text/plain": [
       "<matplotlib.axes._subplots.AxesSubplot at 0x7f5dbf109f28>"
      ]
     },
     "execution_count": 12,
     "metadata": {},
     "output_type": "execute_result"
    }
   ],
   "source": [
    "import rasterio\n",
    "from rasterio.merge import merge\n",
    "from rasterio.plot import show\n",
    "import gdal\n",
    "import glob\n",
    "import os\n",
    "warped = rasterio.open(\"./rasters/gen_tif/q500.tif\")\n",
    "fig = plt.figure(figsize=(8, 8))\n",
    "show(warped, cmap=\"terrain\")"
   ]
  },
  {
   "cell_type": "code",
   "execution_count": 13,
   "metadata": {},
   "outputs": [],
   "source": [
    "# Apply weightings to each raster, flip along x axis\n",
    "firstrun = 1\n",
    "\n",
    "sum_weight = 10.209142568599326\n",
    "weight_list = [0.668713246440564, 1.383283620084454, 1.934625982618619,\n",
    "               2.162996660587738, 1.960317583701837, 1.388473977378504,\n",
    "               0.710731497787608]\n"
   ]
  },
  {
   "cell_type": "code",
   "execution_count": 14,
   "metadata": {},
   "outputs": [
    {
     "name": "stdout",
     "output_type": "stream",
     "text": [
      "(77447.73, 6.0, 0.0, 238715.68, 0.0, 6.0)\n",
      "(77673.15, 5.0, 0.0, 238517.81, 0.0, 5.0)\n",
      "(77925.97, 5.0, 0.0, 238292.94, 0.0, 5.0)\n",
      "(78148.12, 4.0, 0.0, 238097.5, 0.0, 4.0)\n",
      "(78273.77, 4.0, 0.0, 238013.08, 0.0, 4.0)\n",
      "(78606.64, 4.0, 0.0, 237678.17, 0.0, 4.0)\n",
      "(78899.49, 3.0, 0.0, 237440.5, 0.0, 3.0)\n"
     ]
    }
   ],
   "source": [
    "sum_weight = 10.209142568599326\n",
    "weight_list = [0.668713246440564, 1.383283620084454, 1.934625982618619,\n",
    "               2.162996660587738, 1.960317583701837, 1.388473977378504,\n",
    "               0.710731497787608]\n",
    "q_num_list = [\"125\", \"250\",\"375\",\"500\",\"625\",\"750\",\"875\"]\n",
    "for q_num in q_num_list:\n",
    "    in_path = \"./rasters/gen_tif/q\" + str(q_num) + \".tif\"\n",
    "    out_path = \"./rasters/proc_tif/q\" + str(q_num) + \".tif\"\n",
    "    index = q_num_list.index(q_num)\n",
    "    weight = weight_list[index]\n",
    "    if firstrun == 1:\n",
    "        [xsize, ysize, geotransform, geoproj, Z] = readFile(in_path)\n",
    "\n",
    "    # # Set large negative values to -9999\n",
    "    # Z[Z < 0] = -9999\n",
    "    # # Set very small values to -9999\n",
    "    # Z[Z < 1*10**-18] = -9999\n",
    "    # # Choose your preference: (comment either rule)\n",
    "    # # Z[Z == -9999] = np.nan\n",
    "    # # Or\n",
    "    # Apply weighting\n",
    "    Z = Z * weight/sum_weight\n",
    "\n",
    "    Z[np.isnan(Z)] = -9999\n",
    "    new_geotransform = (geotransform[0], geotransform[1], geotransform[2],\n",
    "              geotransform[3], geotransform[4], -1* geotransform[5])\n",
    "    print(new_geotransform)\n",
    "    writeFile(out_path, new_geotransform, geoproj, Z)\n",
    "    \n",
    "# src_files_to_mosaic = []\n",
    "\n",
    "# for fp in dem_fps:\n",
    "#     src = rasterio.open(fp)\n",
    "#     src_files_to_mosaic.append(src)"
   ]
  },
  {
   "cell_type": "code",
   "execution_count": 15,
   "metadata": {},
   "outputs": [
    {
     "data": {
      "image/png": "[encoded data removed]",
      "text/plain": [
       "<Figure size 576x576 with 1 Axes>"
      ]
     },
     "metadata": {
      "needs_background": "light"
     },
     "output_type": "display_data"
    },
    {
     "data": {
      "text/plain": [
       "<matplotlib.axes._subplots.AxesSubplot at 0x7f5dbf112710>"
      ]
     },
     "execution_count": 15,
     "metadata": {},
     "output_type": "execute_result"
    }
   ],
   "source": [
    "import rasterio\n",
    "from rasterio.merge import merge\n",
    "from rasterio.plot import show\n",
    "import gdal\n",
    "import glob\n",
    "import os\n",
    "warped = rasterio.open(\"./rasters/proc_tif/q500.tif\")\n",
    "fig = plt.figure(figsize=(8, 8))\n",
    "show(warped, cmap=\"terrain\")"
   ]
  }
 ],
 "metadata": {
  "kernelspec": {
   "display_name": "Python 3",
   "language": "python",
   "name": "python3"
  },
  "language_info": {
   "codemirror_mode": {
    "name": "ipython",
    "version": 3
   },
   "file_extension": ".py",
   "mimetype": "text/x-python",
   "name": "python",
   "nbconvert_exporter": "python",
   "pygments_lexer": "ipython3",
   "version": "3.7.3"
  }
 },
 "nbformat": 4,
 "nbformat_minor": 2
}
