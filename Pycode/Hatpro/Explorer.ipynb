{
 "cells": [
  {
   "cell_type": "code",
   "execution_count": 1,
   "metadata": {},
   "outputs": [],
   "source": [
    "import pandas as pd\n",
    "import numpy as np\n",
    "import matplotlib.pyplot as plt\n",
    "%matplotlib inline\n",
    "import Constants_and_functions as C"
   ]
  },
  {
   "cell_type": "code",
   "execution_count": 2,
   "metadata": {
    "scrolled": false
   },
   "outputs": [],
   "source": [
    "pd.options.display.max_rows = 7000 # number of displayed rows\n",
    "\n",
    "# Temperature\n",
    "T = pd.read_csv('HATPRO_temp.csv', sep=';', comment='#', header=0, names = C.Z, index_col=0, date_parser=pd.to_datetime) \n",
    "T = T['2019-05-23 00:00:00':'2019-05-23 09:00:00']\n",
    "\n",
    "# Humidity\n",
    "a = pd.read_csv('HATPRO_humidity.csv', sep=';', comment='#', header=0, names = C.Z, index_col=0, date_parser=pd.to_datetime) \n",
    "a = a*10**(-3) # to get kg/m^-3\n",
    "a = a['2019-05-23 00:00:00':'2019-05-23 09:00:00']\n"
   ]
  },
  {
   "cell_type": "code",
   "execution_count": 3,
   "metadata": {},
   "outputs": [],
   "source": [
    "# water vapour pressure\n",
    "e = C.e(T,a) "
   ]
  },
  {
   "cell_type": "code",
   "execution_count": 4,
   "metadata": {},
   "outputs": [],
   "source": [
    "# pressure of dry air\n",
    "p_d = pd.DataFrame(index = T.index, columns = T.columns)\n",
    "DATA = pd.read_csv('data_TAWES_UIBK.csv', sep=';', comment='#', header=0, index_col=0, date_parser=pd.to_datetime)\n",
    "DATA = DATA.iloc[::10,]\n",
    "DATA = DATA[ '2019-05-23 00:00:00':'2019-05-23 09:02:00']\n",
    "p_d[0] = 1000*10**2\n",
    "#p_d[0] = DATA['p']*10**2 # initial condition # problem in pressure Data\n",
    "for i in np.arange(1, len(p_d.columns)):\n",
    "    p_d.iloc[:,i] = C.p_z2( p_d.iloc[:,i-1], p_d.columns[i-1], p_d.columns[i], T.iloc[:,i-1])"
   ]
  },
  {
   "cell_type": "code",
   "execution_count": 5,
   "metadata": {},
   "outputs": [],
   "source": [
    "# mixing ratio\n",
    "w = C.w(e,p_d)"
   ]
  },
  {
   "cell_type": "code",
   "execution_count": 6,
   "metadata": {},
   "outputs": [],
   "source": [
    "# virtual Temperature\n",
    "Tv = C.Tv(T,w)"
   ]
  },
  {
   "cell_type": "code",
   "execution_count": 7,
   "metadata": {},
   "outputs": [],
   "source": [
    "# pressure\n",
    "p = pd.DataFrame(index = T.index, columns = T.columns)\n",
    "p[0] = 1000*10**2\n",
    "#p[0] = DATA['p']*10**2 # initial condition # problem in pressure Data\n",
    "for i in np.arange(1, len(p.columns)):\n",
    "    p.iloc[:,i] = C.p_z2(p.iloc[:,i-1], p.columns[i-1], p.columns[i], Tv.iloc[:,i-1])"
   ]
  },
  {
   "cell_type": "code",
   "execution_count": 8,
   "metadata": {},
   "outputs": [],
   "source": [
    "# potential Temperature\n",
    "theta = C.Theta(T,p)"
   ]
  },
  {
   "cell_type": "code",
   "execution_count": 9,
   "metadata": {},
   "outputs": [],
   "source": [
    "# Gradient of potential Temperature\n",
    "Gradient = pd.DataFrame(index = T.index, columns = T.columns)\n",
    "for i in np.arange(0, len(theta.columns)-1):\n",
    "    Gradient.iloc[:,i] = (theta.iloc[:, i+1]- theta.iloc[:, i])/(theta.columns[i+1]-theta.columns[i])"
   ]
  },
  {
   "cell_type": "code",
   "execution_count": 10,
   "metadata": {},
   "outputs": [
    {
     "data": {
      "image/png": "[encoded data removed]",
      "text/plain": [
       "<Figure size 432x288 with 1 Axes>"
      ]
     },
     "metadata": {
      "needs_background": "light"
     },
     "output_type": "display_data"
    }
   ],
   "source": [
    "#plt.plot(theta.loc['2019-05-23 22:00:00'], theta.columns)\n",
    "plt.plot(Gradient.loc['2019-05-23 09:00:00'], Gradient.columns);"
   ]
  },
  {
   "cell_type": "code",
   "execution_count": null,
   "metadata": {},
   "outputs": [],
   "source": []
  }
 ],
 "metadata": {
  "kernelspec": {
   "display_name": "Python 3",
   "language": "python",
   "name": "python3"
  },
  "language_info": {
   "codemirror_mode": {
    "name": "ipython",
    "version": 3
   },
   "file_extension": ".py",
   "mimetype": "text/x-python",
   "name": "python",
   "nbconvert_exporter": "python",
   "pygments_lexer": "ipython3",
   "version": "3.7.1"
  }
 },
 "nbformat": 4,
 "nbformat_minor": 2
}
