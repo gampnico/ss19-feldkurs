{
 "cells": [
  {
   "cell_type": "code",
   "execution_count": 1,
   "metadata": {
    "pycharm": {
     "is_executing": false
    }
   },
   "outputs": [
    {
     "data": {
      "text/plain": [
       "'/home/nick/PycharmProjects/bkp/ss19-feldkurs/Pycode'"
      ]
     },
     "execution_count": 1,
     "metadata": {},
     "output_type": "execute_result"
    }
   ],
   "source": [
    "# imports and defaults\n",
    "\n",
    "import importlib\n",
    "import pandas as pd\n",
    "%matplotlib inline\n",
    "import matplotlib.pyplot as plt\n",
    "import matplotlib.dates as dates\n",
    "import prettyplot as pp\n",
    "import cn_derivations as cn\n",
    "import numpy as np\n",
    "import os\n",
    "import data_parser as dp\n",
    "import math\n",
    "import mpmath\n",
    "from timeit import default_timer as timer\n",
    "import r_function_port as rfp\n",
    "from sklearn.linear_model import LinearRegression\n",
    "mpmath.dps = 30\n",
    "mpmath.pretty = True\n",
    "\n",
    "pd.options.display.max_rows = 10\n",
    "import seaborn as sns\n",
    "sns.set_style('ticks')\n",
    "sns.set_context('talk')\n",
    "\n",
    "# Time zone adjustment\n",
    "import matplotlib\n",
    "matplotlib.rcParams['timezone'] = 'CET'\n",
    "os.getcwd()\n"
   ]
  },
  {
   "cell_type": "code",
   "execution_count": 2,
   "metadata": {},
   "outputs": [
    {
     "name": "stdout",
     "output_type": "stream",
     "text": [
      "Please enter the stability conditions (stable, unstable, or other):\n",
      "u\n",
      "Mean path height: 84.24445786885246m\n",
      "Effective path height: 47.645469666029996m\n"
     ]
    }
   ],
   "source": [
    "\"\"\"Data overview\"\"\"\n",
    "filename = \"2019-05-23\"\n",
    "station = \"hungerburg\"\n",
    "\n",
    "hsdf = dp.scintillometer_parse(filename)\n",
    "# sdf[\"Cn2\"] = (sdf[\"Cn2\"]) / 2032**(-3) * 1031.5**(-3)\n",
    "# sdf[\"H_convection\"] = sdf[\"H_convection\"] / 2032**(-3) * 1031.5**(-3)\n",
    "importlib.reload(cn)\n",
    "hcomputed_data = cn.data_processor(filename, station)\n",
    "hcdf = hcomputed_data[\"computed\"]\n",
    "hz_eff = hcomputed_data[\"effective_height\"]\n",
    "hcdf = hcdf.loc[:\"2019-05-23 07:55\"].copy(deep=True)\n",
    "hsdf = hsdf.loc[:\"2019-05-23 07:55\"].copy(deep=True)\n",
    "ahcdf = hcdf.loc[:\"2019-05-23 05:57\"]\n",
    "hcdf.index = hcdf.index.time"
   ]
  },
  {
   "cell_type": "code",
   "execution_count": 3,
   "metadata": {},
   "outputs": [],
   "source": [
    "ahcdf = hcomputed_data[\"computed\"].copy(deep=True)\n",
    "ahcdf = ahcdf.loc[:\"2019-05-23 05:57\"]\n",
    "ahcdf.index = ahcdf.index.time"
   ]
  },
  {
   "cell_type": "code",
   "execution_count": 4,
   "metadata": {},
   "outputs": [
    {
     "name": "stdout",
     "output_type": "stream",
     "text": [
      "Please enter the stability conditions (stable, unstable, or other):\n",
      "s\n",
      "Mean path height: 84.24445786885246m\n",
      "Effective path height: 78.48718364377896m\n"
     ]
    },
    {
     "ename": "NameError",
     "evalue": "name 'computed_data' is not defined",
     "output_type": "error",
     "traceback": [
      "\u001b[0;31m---------------------------------------------------------------------------\u001b[0m",
      "\u001b[0;31mNameError\u001b[0m                                 Traceback (most recent call last)",
      "\u001b[0;32m<ipython-input-4-33e0c6ccbeec>\u001b[0m in \u001b[0;36m<module>\u001b[0;34m\u001b[0m\n\u001b[1;32m      8\u001b[0m \u001b[0mcomputed_data_stable\u001b[0m \u001b[0;34m=\u001b[0m \u001b[0mcn\u001b[0m\u001b[0;34m.\u001b[0m\u001b[0mdata_processor\u001b[0m\u001b[0;34m(\u001b[0m\u001b[0;34m\"2019-05-23\"\u001b[0m\u001b[0;34m,\u001b[0m \u001b[0;34m\"hungerburg\"\u001b[0m\u001b[0;34m)\u001b[0m\u001b[0;34m\u001b[0m\u001b[0;34m\u001b[0m\u001b[0m\n\u001b[1;32m      9\u001b[0m \u001b[0;34m\u001b[0m\u001b[0m\n\u001b[0;32m---> 10\u001b[0;31m \u001b[0mz_eff_s\u001b[0m \u001b[0;34m=\u001b[0m \u001b[0mcomputed_data\u001b[0m\u001b[0;34m[\u001b[0m\u001b[0;34m\"effective_height\"\u001b[0m\u001b[0;34m]\u001b[0m\u001b[0;34m\u001b[0m\u001b[0;34m\u001b[0m\u001b[0m\n\u001b[0m\u001b[1;32m     11\u001b[0m \u001b[0mhcdf_stable\u001b[0m \u001b[0;34m=\u001b[0m \u001b[0mhcdf\u001b[0m\u001b[0;34m.\u001b[0m\u001b[0mcopy\u001b[0m\u001b[0;34m(\u001b[0m\u001b[0mdeep\u001b[0m\u001b[0;34m=\u001b[0m\u001b[0;32mTrue\u001b[0m\u001b[0;34m)\u001b[0m\u001b[0;34m\u001b[0m\u001b[0;34m\u001b[0m\u001b[0m\n\u001b[1;32m     12\u001b[0m \u001b[0;31m# hcdf_stable = computed_data_stable[\"computed\"]\u001b[0m\u001b[0;34m\u001b[0m\u001b[0;34m\u001b[0m\u001b[0;34m\u001b[0m\u001b[0m\n",
      "\u001b[0;31mNameError\u001b[0m: name 'computed_data' is not defined"
     ]
    }
   ],
   "source": [
    "\"\"\"Ward's iteration\"\"\"\n",
    "importlib.reload(rfp)\n",
    "\n",
    "# Takes 100s or so to run\n",
    "hcdf_backup = hcdf.copy(deep=True)  # in case of later testing\n",
    "\n",
    "switch_time = \"0557\"\n",
    "computed_data_stable = cn.data_processor(\"2019-05-23\", \"hungerburg\")\n",
    "\n",
    "z_eff_s = computed_data[\"effective_height\"]\n",
    "hcdf_stable = hcdf.copy(deep=True)\n",
    "# hcdf_stable = computed_data_stable[\"computed\"]\n",
    "\n",
    "scdf"
   ]
  },
  {
   "cell_type": "code",
   "execution_count": null,
   "metadata": {},
   "outputs": [],
   "source": [
    "\n",
    "header_list = [\"CT2\", \"Cn2\",\"H_free\",\"Q_0\",\"l_ob\",\"obukhov\",\"obukhov_diff\", \"pressure\",\"rho_air\",\n",
    "               \"shf\",\"shf_diff\",\"temperature\", \"theta_star\",\"u_star\", \"windspeed\"]\n",
    "scdf = pd.read_csv(\"../data/weather_data/schiessstand_bound.csv\",\n",
    "                           header=None, skiprows=1, index_col=0,\n",
    "                           sep=\",\", names=header_list, parse_dates=True)\n",
    "scdf = scdf.loc[:\"2019-05-24 07:55\"].copy(deep=True)\n",
    "ascdf = scdf.loc[:\"2019-05-24 05:57\"]\n",
    "scdf.index = scdf.index.time\n",
    "ascdf.index = ascdf.index.time\n"
   ]
  },
  {
   "cell_type": "code",
   "execution_count": null,
   "metadata": {},
   "outputs": [],
   "source": [
    "# \"\"\"Data overview\"\"\"\n",
    "# filename = \"2019-05-24\"\n",
    "# station = \"schiessstand\"\n",
    "\n",
    "# ssdf = dp.scintillometer_parse(filename)\n",
    "# ssdf[\"Cn2\"] = (ssdf[\"Cn2\"]) / 2032**(-3) * 1031.5**(-3)\n",
    "# ssdf[\"H_convection\"] = ssdf[\"H_convection\"] / 2032**(-3) * 1031.5**(-3)\n",
    "# importlib.reload(cn)\n",
    "# scomputed_data = cn.data_processor(filename, station)\n",
    "# scdf = scomputed_data[\"computed\"]\n",
    "# sz_eff = scomputed_data[\"effective_height\"]\n",
    "# scdf = scdf.loc[:\"2019-05-24 07:55\"].copy(deep=True)\n",
    "# ssdf = ssdf.loc[:\"2019-05-24 07:55\"].copy(deep=True)"
   ]
  },
  {
   "cell_type": "code",
   "execution_count": null,
   "metadata": {},
   "outputs": [],
   "source": [
    "fig = plt.figure(figsize=(26,8))\n",
    "\n",
    "ascdf[\"CT2\"].plot(color=\"black\", label=\"Schießstand\")\n",
    "ahcdf[\"CT2\"][ahcdf[\"CT2\"]<0.008].plot(color=\"black\", linestyle=\"dashed\", label=\"Hungerburg\")\n",
    "ax = plt.gca()\n",
    "# ax.xaxis.set_major_formatter(dates.DateFormatter('%H:%M'))  # hours and minutes\n",
    "plt.title(\"Structure Parameter of the Refractive Index of Temperature, C$_{T}^{2}$\", fontsize=24, fontweight=\"bold\")\n",
    "plt.ylabel(\"Structure Parameter, [K$^{2}m^{-{2}/{3}}$]\", fontsize=20)\n",
    "plt.xlabel(\"Time, CET\")\n",
    "plt.legend()\n",
    "plt.show()\n",
    "fig.savefig('./plots/ZAMG/CT2_comp.png', bbox_inches='tight')"
   ]
  },
  {
   "cell_type": "code",
   "execution_count": null,
   "metadata": {},
   "outputs": [],
   "source": [
    "fig = pp.plot_generic(cdf, \"CT2\")\n",
    "plt.show()"
   ]
  },
  {
   "cell_type": "code",
   "execution_count": null,
   "metadata": {
    "scrolled": true
   },
   "outputs": [],
   "source": [
    "\"\"\"Ward's iteration\"\"\"\n",
    "importlib.reload(rfp)\n",
    "\n",
    "# Takes 100s or so to run\n",
    "cdf_backup = cdf.copy(deep=True)  # in case of later testing\n",
    "\n",
    "switch_time = \"0557\"\n",
    "computed_data_stable = cn.data_processor(filename, station)\n",
    "\n",
    "z_eff_s = computed_data[\"effective_height\"]\n",
    "cdf_stable = computed_data_stable[\"computed\"].iloc[\n",
    "    cdf.index.indexer_between_time(\"00:00\", switch_time)].copy(deep=True)\n",
    "\n",
    "cdf_stable = rfp.ward_method(cdf_stable, z_eff, \"stable\")\n"
   ]
  },
  {
   "cell_type": "code",
   "execution_count": null,
   "metadata": {},
   "outputs": [],
   "source": [
    "cdf_stable"
   ]
  },
  {
   "cell_type": "code",
   "execution_count": null,
   "metadata": {},
   "outputs": [],
   "source": [
    "switch_time = \"0557\"\n",
    "computed_data_unstable = cn.data_processor(filename, station)\n",
    "z_eff_u = computed_data[\"effective_height\"]\n",
    "\n",
    "cdf_unstable = computed_data_unstable[\"computed\"].iloc[\n",
    "    cdf.index.indexer_between_time(switch_time, \"23:59\")].copy(deep=True)\n",
    "\n",
    "cdf_unstable = rfp.ward_method(cdf_unstable, z_eff_u, \"unstable\")"
   ]
  },
  {
   "cell_type": "code",
   "execution_count": null,
   "metadata": {},
   "outputs": [],
   "source": [
    "cdf_stable[\"shf\"] = -cdf_stable[\"shf\"]\n",
    "cdf_stable[\"obukhov\"] = -cdf_stable[\"obukhov\"]\n",
    "\n",
    "cdf = cdf_stable.append(cdf_unstable,sort=True)"
   ]
  },
  {
   "cell_type": "code",
   "execution_count": null,
   "metadata": {},
   "outputs": [],
   "source": [
    "cdf"
   ]
  },
  {
   "cell_type": "code",
   "execution_count": null,
   "metadata": {},
   "outputs": [],
   "source": [
    "import importlib\n",
    "importlib.reload(pp)\n",
    "fig = pp.plot_generic(cdf, \"shf\")\n",
    "plt.show()"
   ]
  },
  {
   "cell_type": "code",
   "execution_count": null,
   "metadata": {},
   "outputs": [],
   "source": [
    "header_list = [\"year\", \"month\", \"day\", \"hour\", \"minute\", \"second\", \"shf\", \"windspeed\", \"obukhov\"]\n",
    "rooftop = pd.read_csv(\"../../data/weather_data/rooftop.csv\",\n",
    "                           header=None, skiprows=1, index_col=None,\n",
    "                           names=header_list, sep=\",\")\n",
    "\n",
    "t_cols = ['year', 'month', 'day', 'hour', 'minute', \"second\"]\n",
    "rooftop.index = pd.to_datetime(rooftop[t_cols])\n",
    "\n",
    "# Remove the useless columns\n",
    "rooftop = rooftop.drop(t_cols, axis=1)\n",
    "rooftop = rooftop.replace(-999, np.nan)\n",
    "rooftop = rooftop.fillna(method=\"ffill\")\n",
    "\n",
    "oidx = rooftop.index\n",
    "nidx = pd.date_range(oidx.min(), oidx.max(), freq='60s')\n",
    "rooftop = rooftop.reindex(oidx.union(nidx)).interpolate(\n",
    "    'index').reindex(nidx).tz_localize(\"UTC\")\n",
    "rooftop.index = rooftop.index + pd.DateOffset(hours=1)\n",
    "rooftop"
   ]
  },
  {
   "cell_type": "code",
   "execution_count": null,
   "metadata": {},
   "outputs": [],
   "source": [
    "wdf = dp.weather_download(\"2019-05-24\")\n",
    "wdf = wdf.loc[\"2019-05-24 03:30\":\"2019-05-24 15:00\"]\n",
    "wdf"
   ]
  },
  {
   "cell_type": "code",
   "execution_count": null,
   "metadata": {},
   "outputs": [],
   "source": [
    "hourly_cdf = pd.DataFrame()\n",
    "hourly_cdf[\"windspeed_mean\"] = 0\n",
    "# hourly_cdf[\"windspeed_std\"] = hourly_cdf[\"windspeed\"].astype(\"float64\").resample(\"H\").std()\n",
    "hourly_cdf[\"windspeed_mean\"] = cdf[\"windspeed\"].astype(\"float64\").resample(\"600S\").mean()\n",
    "\n",
    "hourly_roof = pd.DataFrame()\n",
    "hourly_roof[\"windspeed_mean\"] = 0\n",
    "# hourly_cdf[\"windspeed_std\"] = hourly_cdf[\"windspeed\"].astype(\"float64\").resample(\"H\").std()\n",
    "hourly_roof[\"windspeed_mean\"] = rooftop[\"windspeed\"].astype(\"float64\").resample(\"600S\").mean()\n",
    "\n",
    "fig = plt.figure(figsize=(26, 8))\n",
    "(cdf[\"windspeed\"]).astype(\"float64\").plot(color=\"grey\", label=\"Scintillometer\")\n",
    "# hourly_cdf[\"windspeed_mean\"].astype(\"float64\").plot(\n",
    "#     color=\"black\", linestyle=\"dashed\", label=\"Scintillometer, hourly mean\")\n",
    "\n",
    "(rooftop[\"windspeed\"]).astype(\"float64\").plot(color=\"red\", linestyle = \"dashed\", label=\"InnFLUX, half-hourly mean\")\n",
    "wdf[\"wg\"].astype(\"float64\").plot(color=\"black\", linestyle=\"dashed\", label=\"ZAMG Hourly Mean\")\n",
    "\n",
    "plt.legend(loc=\"upper left\", fontsize = 20)\n",
    "plt.xlabel(\"Time, CET\", fontsize = 20)\n",
    "# plt.ylabel(\"Mean Wind Speeds, [m$\\cdot$s$^{-2}$]\", fontsize = 20)\n",
    "# plt.ylabel(\"Obukhov Length, [m]\", fontsize=20)\n",
    "# plt.title(\"Obukhov Lengths for Schießstand, 24$^{th}$ May 2019\", fontweight=\"bold\", fontsize = 24)\n",
    "plt.title(\"Mean Wind Speeds for Schießstand, 24$^{th}$ May 2019\", fontweight=\"bold\", fontsize = 24)\n",
    "plt.ylabel(\"Mean Wind Speed, [m$\\cdot s^{-2}$]\", fontsize=20)\n",
    "ax = plt.gca()\n",
    "ax.xaxis.set_major_formatter(\n",
    "    dates.DateFormatter('%H:%M'))  # hours and minutes\n",
    "plt.show()\n",
    "\n",
    "# fig.savefig('./plots/ERTEL/windspeed_series.png', bbox_inches='tight')"
   ]
  },
  {
   "cell_type": "code",
   "execution_count": null,
   "metadata": {},
   "outputs": [],
   "source": []
  },
  {
   "cell_type": "code",
   "execution_count": null,
   "metadata": {},
   "outputs": [],
   "source": [
    "cdf[\"shf\"].iloc[4:]"
   ]
  },
  {
   "cell_type": "code",
   "execution_count": null,
   "metadata": {},
   "outputs": [],
   "source": [
    "rooftop[\"shf\"].iloc[:611]"
   ]
  },
  {
   "cell_type": "code",
   "execution_count": null,
   "metadata": {},
   "outputs": [],
   "source": [
    "df = pd.DataFrame()\n",
    "# df = cdf.filter([\"\"])\n",
    "df[\"shf\"] = cdf[\"shf\"].iloc[4:].astype(\"float\")\n",
    "df[\"roof_shf\"] = rooftop[\"shf\"].iloc[:611].astype(\"float\")\n",
    "df = df.dropna()\n",
    "X = df[\"shf\"].values.reshape(-1, 1)  # values converts it into a numpy array\n",
    "Y = df[\"roof_shf\"].iloc[:611].values.reshape(-1, 1)  # -1 means that calculate the dimension of rows, but have 1 column"
   ]
  },
  {
   "cell_type": "code",
   "execution_count": null,
   "metadata": {
    "scrolled": false
   },
   "outputs": [],
   "source": []
  },
  {
   "cell_type": "code",
   "execution_count": null,
   "metadata": {},
   "outputs": [],
   "source": [
    "df = pd.DataFrame()\n",
    "# df = cdf.filter([\"\"])\n",
    "df[\"obukhov\"] = cdf_unstable[\"obukhov\"].iloc[4:].astype(\"float\")\n",
    "df[\"roof_ob\"] = rooftop[\"obukhov\"].iloc[:611].astype(\"float\")\n",
    "# df = df[df[\"obukhov\"] !=0]\n",
    "df = df.dropna()\n",
    "X = df[\"obukhov\"].values.reshape(-1, 1)  # values converts it into a numpy array\n",
    "Y = df[\"roof_ob\"].iloc[:611].values.reshape(-1, 1)  # -1 means that calculate the dimension of rows, but have 1 column"
   ]
  },
  {
   "cell_type": "code",
   "execution_count": null,
   "metadata": {},
   "outputs": [],
   "source": [
    "\n",
    "fig = plt.figure(figsize=(8, 8))\n",
    "\n",
    "plt.scatter(X, Y, marker=\".\", color=\"gray\")\n",
    "plt.title(\"Sensible Heat Flux Regression for Schießstand, 24$^{th}$ May 2019\", fontweight=\"bold\", fontsize = 22)\n",
    "# plt.xlabel(\"Scintillometer Flux\", fontsize = 20)\n",
    "plt.ylabel(\"InnFLUX Sensible Heat Flux, [W$\\cdot m^{-2}$]\", fontsize = 20)\n",
    "ax = plt.gca()\n",
    "ax.set_xlabel(\"Scintillometer Sensible Heat Flux, [W$\\cdot m^{-2}$]\", fontsize = 20)\n",
    "\n",
    "# Linear Regression\n",
    "\n",
    "linear_regressor = LinearRegression()  # create object for the class\n",
    "reg = linear_regressor.fit(X, Y)  # perform linear regression\n",
    "Y_pred = linear_regressor.predict(X) # make predictions\n",
    "# plt.plot(X, Y_pred, color='black')\n",
    "\n",
    "plt.text(0.7, 0.9, str(\"R$^{2}$= \" + str(round(reg.score(X,Y), 5))), horizontalalignment='left',\n",
    "     verticalalignment='bottom', transform=ax.transAxes)\n",
    "\n",
    "plt.show()\n",
    "# \n",
    "fig.savefig('./plots/ERTEL/shf_reg_clean.png', bbox_inches='tight')"
   ]
  },
  {
   "cell_type": "code",
   "execution_count": null,
   "metadata": {},
   "outputs": [],
   "source": [
    "hourly_cdf[\"obukhov_mean\"] = 0\n",
    "# hourly_cdf[\"shf_std\"] = hourly_cdf[\"shf\"].astype(\"float64\").resample(\"H\").std()\n",
    "hourly_cdf[\"obukhov_mean\"] = cdf[\"obukhov\"].astype(\"float64\").resample(\"600S\").mean()\n",
    "\n",
    "fig = plt.figure(figsize=(26, 6))\n",
    "cdf[\"obukhov\"].astype(\"float64\").plot(color=\"grey\", label=\"Time series\")\n",
    "hourly_cdf[\"obukhov_mean\"].astype(\"float64\").plot(\n",
    "    color=\"black\", linestyle=\"dashed\", label=\"10-minute mean\")\n",
    "\n",
    "plt.legend(loc=\"lower left\")\n",
    "plt.xlabel(\"Time, CET\")\n",
    "ax = plt.gca()\n",
    "ax.xaxis.set_major_formatter(\n",
    "    dates.DateFormatter('%H:%M'))  # hours and minutes\n",
    "plt.show()"
   ]
  },
  {
   "cell_type": "code",
   "execution_count": null,
   "metadata": {},
   "outputs": [],
   "source": [
    "fig = plt.figure(figsize=(26, 6))\n",
    "cdf = cdf.tz_convert(\"UTC\")\n",
    "# sdf[\"H_convection\"].plot(color=\"black\", label=\"Scintillometer\")\n",
    "cdf[\"shf\"].plot(color=\"red\", label=\"Iterated Flux\")\n",
    "\n",
    "plt.legend(loc=\"upper left\")\n",
    "plt.title(\n",
    "    r\"Sensible Heat Fluxes $Q_{H}$ from Scintillometer and from Iteration\",\n",
    "    fontweight=\"bold\")\n",
    "plt.xlabel(\"Time\")\n",
    "plt.ylabel(\"Sensible Heat Flux, [W$\\cdot$m$^{-2}$]\")\n",
    "ax = plt.gca()\n",
    "ax.xaxis.set_major_formatter(\n",
    "    dates.DateFormatter('%H:%M'))  # hours and minutes"
   ]
  },
  {
   "cell_type": "code",
   "execution_count": null,
   "metadata": {},
   "outputs": [],
   "source": [
    "cdf"
   ]
  },
  {
   "cell_type": "code",
   "execution_count": null,
   "metadata": {},
   "outputs": [],
   "source": [
    "cdf_backup = cdf.copy()"
   ]
  },
  {
   "cell_type": "code",
   "execution_count": null,
   "metadata": {},
   "outputs": [],
   "source": [
    "cdf = cdf.tz_convert(\"UTC\")"
   ]
  },
  {
   "cell_type": "code",
   "execution_count": null,
   "metadata": {},
   "outputs": [],
   "source": [
    "z_eff"
   ]
  },
  {
   "cell_type": "code",
   "execution_count": null,
   "metadata": {},
   "outputs": [],
   "source": [
    "column_headers = [\"yyyy\", \"MM\", \"day\", \"HH\", \"MM\", \"zm\", \"d\", \"z0\",\n",
    "                  \"u_mean\", \"L\", \"sigma_v\", \"u_star\", \"wind_dir\",\n",
    "                  \"temperature, pressure, windspeed, shf, H_free, obukhov\"]\n",
    "ndf = cdf.copy().filter([\"wind_dir\", \"temperature\", \"pressure\", \"windspeed\", \"shf\", \"H_free\", \"obukhov\"])\n",
    "\n",
    "ndf[\"yyyy\"] = cdf.index.year\n",
    "ndf[\"mm\"] = cdf.index.month\n",
    "ndf[\"day\"] = cdf.index.day\n",
    "ndf[\"HH\"] = cdf.index.hour\n",
    "ndf[\"MM\"] = cdf.index.minute\n",
    "ndf[\"zm\"] = 40.9\n",
    "ndf[\"d\"] = 0.7 * 12\n",
    "ndf[\"z0\"] = -999\n",
    "ndf[\"u_mean\"] = cdf[\"windspeed\"].mean()\n",
    "ndf[\"L\"] = cdf[\"obukhov\"].fillna(value=-999)\n",
    "ndf[\"sigma_v\"] = (np.sqrt(((cdf[\"windspeed\"]-ndf[\"u_mean\"])**2)).mean())\n",
    "ndf[\"sigma_v\"] = ndf[\"sigma_v\"].fillna(value=-999)\n",
    "ndf[\"u_star\"] = cdf[\"u_star\"].fillna(value=-999)\n",
    "ndf[\"wind_dir\"] = cdf[\"wind_dir\"].fillna(value=-999)\n",
    "ndf"
   ]
  },
  {
   "cell_type": "code",
   "execution_count": null,
   "metadata": {},
   "outputs": [],
   "source": [
    "# ndf.to_csv(path_or_buf=\"../ffp/ffp_midpoint.csv\", index=None) "
   ]
  },
  {
   "cell_type": "code",
   "execution_count": null,
   "metadata": {},
   "outputs": [],
   "source": [
    "column_headers = [\"yyyy\", \"MM\", \"day\", \"HH\", \"MM\", \"zm\", \"d\", \"z0\", \"u_mean\", \"L\", \"sigma_v\", \"u_star\", \"wind_dir\"]\n",
    "ndf = cdf.copy().filter(\"wind_dir\")\n",
    "\n",
    "ndf[\"yyyy\"] = cdf.index.year\n",
    "ndf[\"mm\"] = cdf.index.month\n",
    "ndf[\"day\"] = cdf.index.day\n",
    "ndf[\"HH\"] = cdf.index.hour\n",
    "ndf[\"MM\"] = cdf.index.minute\n",
    "ndf[\"zm\"] = 31.42\n",
    "ndf[\"d\"] = 0.7 * 12\n",
    "ndf[\"z0\"] = -999\n",
    "ndf[\"u_mean\"] = cdf[\"windspeed\"].mean()\n",
    "ndf[\"L\"] = cdf[\"obukhov\"].fillna(value=-999)\n",
    "ndf[\"sigma_v\"] = (np.sqrt(((cdf[\"windspeed\"]-ndf[\"u_mean\"])**2)).mean())\n",
    "ndf[\"sigma_v\"] = ndf[\"sigma_v\"].fillna(value=-999)\n",
    "ndf[\"u_star\"] = cdf[\"u_star\"].fillna(value=-999)\n",
    "ndf[\"wind_dir\"] = cdf[\"wind_dir\"].fillna(value=-999)\n",
    "ndf"
   ]
  },
  {
   "cell_type": "code",
   "execution_count": null,
   "metadata": {},
   "outputs": [],
   "source": [
    "ndf_backup = ndf.copy()\n",
    "ndf = ndf.reset_index(drop=True)\n",
    "ndf"
   ]
  },
  {
   "cell_type": "code",
   "execution_count": null,
   "metadata": {},
   "outputs": [],
   "source": [
    "# ndf.to_csv(path_or_buf=\"../ffp/ffp_hq1.csv\", index=None)\n"
   ]
  }
 ],
 "metadata": {
  "kernelspec": {
   "display_name": "Python 3",
   "language": "python",
   "name": "python3"
  },
  "language_info": {
   "codemirror_mode": {
    "name": "ipython",
    "version": 3
   },
   "file_extension": ".py",
   "mimetype": "text/x-python",
   "name": "python",
   "nbconvert_exporter": "python",
   "pygments_lexer": "ipython3",
   "version": "3.7.3"
  },
  "pycharm": {
   "stem_cell": {
    "cell_type": "raw",
    "metadata": {
     "collapsed": false
    },
    "source": []
   }
  }
 },
 "nbformat": 4,
 "nbformat_minor": 2
}
